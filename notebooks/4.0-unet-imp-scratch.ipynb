{
 "cells": [
  {
   "cell_type": "code",
   "execution_count": 9,
   "id": "5ad8368a-9ed6-471b-b4df-aae1f37fdcf6",
   "metadata": {
    "tags": []
   },
   "outputs": [],
   "source": [
    "import warnings\n",
    "import torch\n",
    "import torch.nn.functional as F\n",
    "from torch import nn\n",
    "from torchvision.transforms.functional import center_crop\n",
    "import matplotlib.pyplot as plt\n",
    "\n",
    "warnings.simplefilter(action=\"ignore\")"
   ]
  },
  {
   "cell_type": "code",
   "execution_count": 4,
   "id": "52693b0f-100c-4499-b3d1-c2f53cb40e26",
   "metadata": {
    "tags": []
   },
   "outputs": [],
   "source": [
    "def double_conv(in_channels, out_channels):\n",
    "    \"\"\"3x3Conv -> ReLU -> 3x3Conv ->ReLU\"\"\"\n",
    "    conv = nn.Sequential(\n",
    "        nn.Conv2d(\n",
    "            in_channels=in_channels,\n",
    "            out_channels=out_channels,\n",
    "            kernel_size=3,\n",
    "            bias=True,\n",
    "            padding=1,\n",
    "        ),\n",
    "        nn.ReLU(inplace=True),\n",
    "        nn.Conv2d(\n",
    "            in_channels=out_channels,\n",
    "            out_channels=out_channels,\n",
    "            kernel_size=3,\n",
    "            bias=True,\n",
    "            padding=1,\n",
    "        ),\n",
    "        nn.ReLU(inplace=True),\n",
    "    )\n",
    "    return conv\n",
    "\n",
    "\n",
    "class Unet(nn.Module):\n",
    "    \"\"\"Vanilla UNet architecture from the original paper\"\"\"\n",
    "\n",
    "    def __init__(self):\n",
    "        super().__init__()\n",
    "        self.dconv1 = double_conv(in_channels=3, out_channels=64)\n",
    "        self.dconv2 = double_conv(in_channels=64, out_channels=128)\n",
    "        self.dconv3 = double_conv(in_channels=128, out_channels=256)\n",
    "        self.dconv4 = double_conv(in_channels=256, out_channels=512)\n",
    "        self.dconv5 = double_conv(in_channels=512, out_channels=1024)\n",
    "\n",
    "        self.tconv1 = nn.ConvTranspose2d(\n",
    "            in_channels=1024, out_channels=512, kernel_size=(2, 2), stride=2, padding=0\n",
    "        )\n",
    "        self.dconv6 = double_conv(in_channels=1024, out_channels=512)\n",
    "        self.tconv2 = nn.ConvTranspose2d(\n",
    "            in_channels=512, out_channels=256, kernel_size=(2, 2), stride=2, padding=0\n",
    "        )\n",
    "        self.dconv7 = double_conv(in_channels=512, out_channels=256)\n",
    "        self.tconv3 = nn.ConvTranspose2d(\n",
    "            in_channels=256, out_channels=128, kernel_size=(2, 2), stride=2, padding=0\n",
    "        )\n",
    "        self.dconv8 = double_conv(in_channels=256, out_channels=128)\n",
    "        self.tconv4 = nn.ConvTranspose2d(\n",
    "            in_channels=128, out_channels=64, kernel_size=(2, 2), stride=2, padding=0\n",
    "        )\n",
    "        self.dconv9 = double_conv(in_channels=128, out_channels=64)\n",
    "\n",
    "        self.outconv = nn.Conv2d(\n",
    "            in_channels=64, out_channels=7, kernel_size=(1, 1), bias=True\n",
    "        )\n",
    "        # initialize weights layers with kaiming normal\n",
    "        self.apply(self._init_weights)\n",
    "\n",
    "    def _init_weights(self, module):\n",
    "        if isinstance(module, (nn.Conv2d, nn.ConvTranspose2d)):\n",
    "            nn.init.kaiming_normal_(module.weight, nonlinearity=\"relu\")\n",
    "            if module.bias is not None:\n",
    "                nn.init.constant_(module.bias, 0)\n",
    "\n",
    "    def forward(self, x):\n",
    "        # contracting path\n",
    "        s1 = self.dconv1(x)\n",
    "        x = F.max_pool2d(s1, kernel_size=(2, 2))\n",
    "        s2 = self.dconv2(x)\n",
    "        x = F.max_pool2d(s2, kernel_size=(2, 2))\n",
    "        s3 = self.dconv3(x)\n",
    "        x = F.max_pool2d(s3, kernel_size=(2, 2))\n",
    "        s4 = self.dconv4(x)\n",
    "        x = F.max_pool2d(s4, kernel_size=(2, 2))\n",
    "\n",
    "        x = self.dconv5(x)\n",
    "\n",
    "        # expansive path\n",
    "        x = F.relu(self.tconv1(x))\n",
    "        x = self.dconv6(torch.cat((x, center_crop(s4, x.shape[-1])), dim=1))\n",
    "        x = F.relu(self.tconv2(x))\n",
    "        x = self.dconv7(torch.cat((x, center_crop(s3, x.shape[-1])), dim=1))\n",
    "        x = F.relu(self.tconv3(x))\n",
    "        x = self.dconv8(torch.cat((x, center_crop(s2, x.shape[-1])), dim=1))\n",
    "        x = F.relu(self.tconv4(x))\n",
    "        x = self.dconv9(torch.cat((x, center_crop(s1, x.shape[-1])), dim=1))\n",
    "\n",
    "        x = self.outconv(x)\n",
    "        return x"
   ]
  },
  {
   "cell_type": "code",
   "execution_count": 5,
   "id": "3f43ca02-694e-40d8-b3af-a6c4486033b8",
   "metadata": {
    "tags": []
   },
   "outputs": [],
   "source": [
    "model = Unet()"
   ]
  },
  {
   "cell_type": "code",
   "execution_count": 6,
   "id": "80ec8e3a-9090-4941-9dcd-c52a011f759d",
   "metadata": {
    "tags": []
   },
   "outputs": [],
   "source": [
    "# print([name for name, x2 in model.named_parameters()])\n",
    "\n",
    "out_b = model.get_parameter(\"outconv.bias\")\n",
    "out_w = model.get_parameter(\"outconv.weight\")"
   ]
  },
  {
   "cell_type": "code",
   "execution_count": 7,
   "id": "e356cb06-419d-4221-a1fb-b7b71ad428d6",
   "metadata": {
    "tags": []
   },
   "outputs": [
    {
     "name": "stdout",
     "output_type": "stream",
     "text": [
      "bias -0.04691941291093826 0.0043323650024831295\n",
      "weight 0.001026689657010138 0.005581824108958244\n"
     ]
    }
   ],
   "source": [
    "print(\"bias\", out_b.mean().item(), out_b.var().item())\n",
    "print(\"weight\", out_w.mean().item(), out_w.var().item())"
   ]
  },
  {
   "cell_type": "code",
   "execution_count": 17,
   "id": "976ce812",
   "metadata": {},
   "outputs": [
    {
     "data": {
      "text/plain": [
       "tensor(0.0417)"
      ]
     },
     "execution_count": 17,
     "metadata": {},
     "output_type": "execute_result"
    }
   ],
   "source": [
    "torch.sqrt(torch.tensor(1 / (64 * 9)))"
   ]
  },
  {
   "cell_type": "code",
   "execution_count": 14,
   "id": "981986cb-5c27-44a1-9fd0-b0356fa1258b",
   "metadata": {},
   "outputs": [
    {
     "data": {
      "image/png": "[encoded data removed]",
      "text/plain": [
       "<Figure size 640x480 with 1 Axes>"
      ]
     },
     "metadata": {},
     "output_type": "display_data"
    }
   ],
   "source": [
    "plt.hist(out_w.detach().view(-1), 50);"
   ]
  }
 ],
 "metadata": {
  "kernelspec": {
   "display_name": "kaggle-kernel",
   "language": "python",
   "name": "kaggle-kernel"
  }
 },
 "nbformat": 4,
 "nbformat_minor": 5
}
