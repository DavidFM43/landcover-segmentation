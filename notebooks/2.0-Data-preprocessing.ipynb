{
 "cells": [
  {
   "attachments": {},
   "cell_type": "markdown",
   "metadata": {},
   "source": [
    "The mask images are in RGB format, we need to transform them to label encoding and save them"
   ]
  },
  {
   "cell_type": "code",
   "execution_count": 22,
   "metadata": {},
   "outputs": [],
   "source": [
    "import os\n",
    "import torch\n",
    "from tqdm import tqdm\n",
    "from torchvision.io import read_image\n",
    "from torchvision.transforms.functional import to_pil_image\n",
    "from pathlib import Path\n",
    "import pandas as pd\n",
    "\n",
    "\n",
    "data_dir = Path(\"../data/\")\n",
    "classes = pd.read_csv(data_dir / \"class_dict.csv\")\n",
    "class_colors = [tuple(row[1:].tolist()) for _, row in classes.iterrows()]\n",
    "out_dir = data_dir / \"train_masks\"\n",
    "\n",
    "# specify the directory you want to search for .jpg files\n",
    "train_dir = data_dir / \"train\"\n",
    "mask_files = [f for f in os.listdir(train_dir) if f.endswith('.png')]\n",
    "\n",
    "def rgb_to_label(mask, class_colors):\n",
    "    \"\"\"\n",
    "    Transforms a mask image from RGB format to label encoding.\n",
    "        Parameters:\n",
    "            mask: Torch tensor of shape (3, H, W)\n",
    "            class_colors: list of tuples of the RGB values for each class\n",
    "        Returns:\n",
    "            Torch tensor of shape (H, W) of label enconded classes\n",
    "    \"\"\"\n",
    "    h, w = mask.shape[1:]  # shape expected to be (C, H, W)\n",
    "    semantic_map = torch.zeros((h, w), dtype=torch.uint8)\n",
    "    for idx, color in enumerate(class_colors):\n",
    "        color = torch.tensor(color).view(3, 1, 1)  # rgb value\n",
    "        class_map = torch.all(torch.eq(mask, color), 0)\n",
    "        semantic_map[class_map] = idx\n",
    "    return semantic_map"
   ]
  },
  {
   "cell_type": "code",
   "execution_count": 38,
   "metadata": {},
   "outputs": [
    {
     "name": "stderr",
     "output_type": "stream",
     "text": [
      "100%|██████████| 803/803 [12:42<00:00,  1.05it/s]\n"
     ]
    }
   ],
   "source": [
    "# transform all the masks and save them in out_dir\n",
    "for mask_file in tqdm(mask_files):\n",
    "    img_mask = read_image(os.path.join(train_dir, mask_file))\n",
    "    lenc_mask = rgb_to_label(img_mask, class_colors)\n",
    "    to_pil_image(lenc_mask).save(str(out_dir / mask_file))"
   ]
  }
 ],
 "metadata": {
  "kernelspec": {
   "display_name": "kaggle",
   "language": "python",
   "name": "python3"
  },
  "language_info": {
   "codemirror_mode": {
    "name": "ipython",
    "version": 3
   },
   "file_extension": ".py",
   "mimetype": "text/x-python",
   "name": "python",
   "nbconvert_exporter": "python",
   "pygments_lexer": "ipython3",
   "version": "3.9.15"
  },
  "orig_nbformat": 4,
  "vscode": {
   "interpreter": {
    "hash": "5f61c2089b08795400945c903da408432651bbaca6b22bb6c13ea905da80bc86"
   }
  }
 },
 "nbformat": 4,
 "nbformat_minor": 2
}
