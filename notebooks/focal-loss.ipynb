{
 "cells": [
  {
   "cell_type": "code",
   "execution_count": 2,
   "metadata": {},
   "outputs": [],
   "source": [
    "import segmentation_models_pytorch as smp\n",
    "import torch"
   ]
  },
  {
   "cell_type": "code",
   "execution_count": 3,
   "metadata": {},
   "outputs": [],
   "source": [
    "config = {\n",
    "    \"downsize_res\": 512,\n",
    "    \"batch_size\": 6,\n",
    "    \"epochs\": 30,\n",
    "    \"lr\": 3e-4,\n",
    "    \"model_architecture\": \"Unet\",\n",
    "    \"model_config\": {\n",
    "        \"encoder_name\": \"resnet34\",\n",
    "        \"encoder_weights\": \"imagenet\",\n",
    "        \"in_channels\": 3,\n",
    "        \"classes\": 7,\n",
    "    },\n",
    "}\n",
    "\n",
    "\n",
    "device = \"cuda\" if torch.cuda.is_available() else \"cpu\"\n",
    "model = smp.Unet(**config[\"model_config\"]).to(device)"
   ]
  },
  {
   "cell_type": "code",
   "execution_count": 11,
   "metadata": {},
   "outputs": [],
   "source": [
    "x = torch.randn(1, 3, 512, 512).to(device)\n",
    "y = torch.randint(0, 6, (1, 512, 512)).to(device)\n",
    "output = model(x)"
   ]
  },
  {
   "cell_type": "code",
   "execution_count": 17,
   "metadata": {},
   "outputs": [],
   "source": [
    "import torch.nn.functional as F\n",
    "\n",
    "def focal_loss(input, target, weight=None, gamma=2):\n",
    "    ce = F.cross_entropy(input, target, reduction=\"none\", weight=weight)\n",
    "    if weight is not None:\n",
    "        weight_matrix = weight[target]\n",
    "        # probably will have stability issues with this division\n",
    "        probs = torch.exp(-ce) / weight_matrix\n",
    "    probs = torch.exp(-ce)\n",
    "    fl_values = (1 - probs) ** gamma * ce\n",
    "    return fl_values.mean()\n"
   ]
  },
  {
   "cell_type": "code",
   "execution_count": 21,
   "metadata": {},
   "outputs": [
    {
     "name": "stderr",
     "output_type": "stream",
     "text": [
      "/home/davidfm43/miniconda3/envs/landcover-segmentation/lib/python3.9/site-packages/torch/hub.py:286: UserWarning: You are about to download and run code from an untrusted repository. In a future release, this won't be allowed. To add the repository to your trusted list, change the command to {calling_fn}(..., trust_repo=False) and a command prompt will appear asking for an explicit confirmation of trust, or load(..., trust_repo=True), which will assume that the prompt is to be answered with 'yes'. You can also use load(..., trust_repo='check') which will only prompt for confirmation if the repo is not already trusted. This will eventually be the default behaviour\n",
      "  warnings.warn(\n",
      "Downloading: \"https://github.com/adeelh/pytorch-multi-class-focal-loss/zipball/master\" to /home/davidfm43/.cache/torch/hub/master.zip\n"
     ]
    }
   ],
   "source": [
    "loss_fn = torch.hub.load(\n",
    "\t\"adeelh/pytorch-multi-class-focal-loss\",\n",
    "\tmodel=\"FocalLoss\",\n",
    "\talpha=torch.tensor([0.05, 0.05, 0.05, 0.05, 0.05, 0.05, 0.75]),\n",
    "\tgamma=2,\n",
    "\treduction=\"mean\"\n",
    "    )"
   ]
  },
  {
   "cell_type": "code",
   "execution_count": 22,
   "metadata": {},
   "outputs": [
    {
     "data": {
      "text/plain": [
       "tensor(0.0904, grad_fn=<MeanBackward0>)"
      ]
     },
     "execution_count": 22,
     "metadata": {},
     "output_type": "execute_result"
    }
   ],
   "source": [
    "loss_fn(output, y)"
   ]
  },
  {
   "cell_type": "code",
   "execution_count": 19,
   "metadata": {},
   "outputs": [
    {
     "name": "stdout",
     "output_type": "stream",
     "text": [
      "tensor([[[1., 5., 3.,  ..., 6., 3., 5.],\n",
      "         [5., 2., 6.,  ..., 4., 3., 5.],\n",
      "         [5., 5., 6.,  ..., 3., 5., 6.],\n",
      "         ...,\n",
      "         [5., 2., 5.,  ..., 4., 4., 3.],\n",
      "         [6., 6., 1.,  ..., 3., 2., 5.],\n",
      "         [6., 5., 2.,  ..., 3., 1., 1.]]])\n"
     ]
    },
    {
     "data": {
      "text/plain": [
       "tensor(7.1935, grad_fn=<MeanBackward0>)"
      ]
     },
     "execution_count": 19,
     "metadata": {},
     "output_type": "execute_result"
    }
   ],
   "source": [
    "focal_loss(output, y, weight=torch.tensor([1.0, 2.0, 3.0, 4.0, 5.0, 6.0, 7.0]))\n",
    "\n"
   ]
  }
 ],
 "metadata": {
  "kernelspec": {
   "display_name": "landcover-segmentation",
   "language": "python",
   "name": "python3"
  },
  "language_info": {
   "codemirror_mode": {
    "name": "ipython",
    "version": 3
   },
   "file_extension": ".py",
   "mimetype": "text/x-python",
   "name": "python",
   "nbconvert_exporter": "python",
   "pygments_lexer": "ipython3",
   "version": "3.9.16"
  },
  "orig_nbformat": 4
 },
 "nbformat": 4,
 "nbformat_minor": 2
}
