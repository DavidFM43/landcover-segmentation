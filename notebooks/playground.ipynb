{
 "cells": [
  {
   "cell_type": "code",
   "execution_count": 4,
   "metadata": {
    "tags": []
   },
   "outputs": [],
   "source": [
    "import torch\n",
    "import torchvision\n",
    "from torch import nn\n",
    "from torch.utils.data import DataLoader\n",
    "from tqdm import tqdm\n",
    "import os\n",
    "import wandb\n",
    "\n",
    "from dataset import LandcoverDataset, class_names, class_labels\n",
    "from model import Unet\n",
    "from utils import label_to_onehot, count_classes"
   ]
  },
  {
   "cell_type": "code",
   "execution_count": 44,
   "metadata": {
    "tags": []
   },
   "outputs": [
    {
     "data": {
      "text/plain": [
       "torch.Size([1, 3, 512, 512])"
      ]
     },
     "execution_count": 44,
     "metadata": {},
     "output_type": "execute_result"
    }
   ],
   "source": [
    "# reproducibility\n",
    "torch.manual_seed(1)\n",
    "torch.backends.cudnn.benchmark = False\n",
    "torch.backends.cudnn.deterministic = True\n",
    "wandb_log = True\n",
    "# data\n",
    "resize_res = 512\n",
    "batch_size = 5\n",
    "epochs = 20\n",
    "device = \"cuda\" if torch.cuda.is_available() else \"cpu\"\n",
    "# init model and optimizer\n",
    "model = Unet()\n",
    "model.to(device)\n",
    "optimizer = torch.optim.Adam(model.parameters())\n",
    "# init datasets and dataloaders\n",
    "transform_args = dict(\n",
    "    transform=torchvision.transforms.Resize(resize_res),\n",
    "    target_transform=torchvision.transforms.Resize(resize_res),\n",
    ")\n",
    "train_dataset = LandcoverDataset(train=True, **transform_args)\n",
    "valid_dataset = LandcoverDataset(train=False, **transform_args)\n",
    "x, y = train_dataset[0]\n",
    "x.unsqueeze_(0)\n",
    "x.shape"
   ]
  },
  {
   "cell_type": "code",
   "execution_count": 5,
   "metadata": {},
   "outputs": [],
   "source": [
    "# kaimming init\n",
    "\n",
    "# self.apply(self._init_weights)\n",
    "\n",
    "from torch import nn\n",
    "\n",
    "def _init_weights(self, module):\n",
    "    if isinstance(module, (nn.Conv2d, nn.ConvTranspose2d)):\n",
    "        nn.init.kaiming_normal_(module.weight, nonlinearity=\"relu\")\n",
    "        if module.bias is not None:\n",
    "           nn.init.constant_(module.bias, 0)\n"
   ]
  },
  {
   "cell_type": "code",
   "execution_count": 6,
   "metadata": {},
   "outputs": [
    {
     "data": {
      "text/plain": [
       "tensor([[ 0.8071, -1.1126,  0.2290, -0.7009,  1.5858],\n",
       "        [ 0.5850, -1.4523,  0.3968,  0.3076,  0.5177],\n",
       "        [ 0.2906,  1.5482, -0.3764,  0.7683,  0.5816]])"
      ]
     },
     "execution_count": 6,
     "metadata": {},
     "output_type": "execute_result"
    }
   ],
   "source": [
    "w = torch.empty(3, 5)\n",
    "nn.init.kaiming_normal_(w, mode='fan_out', nonlinearity='relu')\n",
    "\n"
   ]
  },
  {
   "cell_type": "code",
   "execution_count": 9,
   "metadata": {},
   "outputs": [
    {
     "data": {
      "text/plain": [
       "(tensor(0.2650), tensor(0.8626))"
      ]
     },
     "execution_count": 9,
     "metadata": {},
     "output_type": "execute_result"
    }
   ],
   "source": [
    "w.mean(), w.std()"
   ]
  },
  {
   "cell_type": "code",
   "execution_count": null,
   "metadata": {},
   "outputs": [],
   "source": []
  }
 ],
 "metadata": {
  "kernelspec": {
   "display_name": "kaggle",
   "language": "python",
   "name": "python3"
  },
  "language_info": {
   "codemirror_mode": {
    "name": "ipython",
    "version": 3
   },
   "file_extension": ".py",
   "mimetype": "text/x-python",
   "name": "python",
   "nbconvert_exporter": "python",
   "pygments_lexer": "ipython3",
   "version": "3.9.15"
  }
 },
 "nbformat": 4,
 "nbformat_minor": 4
}
