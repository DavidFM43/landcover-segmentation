{
 "cells": [
  {
   "cell_type": "markdown",
   "metadata": {
    "id": "OkKkRskdlzj1"
   },
   "source": [
    "**TODO**:\n",
    "- [x] Decide which code to leave for the image plotting\n",
    "- [x] Determine when to transform the image masks\n",
    "- [x] Determine which mask image transformation code to use\n",
    "- [x] Check if there's class imbalance\n",
    "- [x] Build the vanilla Unet\n",
    "    - [x] Figure out how to improve the crop code\n",
    "    - [x] Check that there is no problem croping odd sized layer data\n",
    "- [x] Investigate the issue the size of the images and the RAM \n",
    "- [ ] Determine what is the best way to adjust the targets to the Unet's output shape\n",
    "- [ ] Overfit a single batch\n",
    "    - [ ] Smooth the initial loss\n",
    "- [ ] ¿What is a good learning rate?\n",
    "- [ ] Define a training loop\n",
    "- [x] Decirle a Santiago el problema con CV2\n",
    "- [ ] Comment code so far\n",
    "- [ ] Que puedo aprender de la parte de training del repo de la unet\n",
    "de pytorch [repo](https://github.com/milesial/Pytorch-UNet)\n",
    "    - [ ] Revisar como una wandb\n",
    "- [ ] See how nomalizing the input images changes training\n",
    "- [ ] How to initialize the weights of the colvolutions"
   ]
  },
  {
   "cell_type": "code",
   "execution_count": 1,
   "metadata": {
    "executionInfo": {
     "elapsed": 4428,
     "status": "ok",
     "timestamp": 1674261250185,
     "user": {
      "displayName": "David Felipe Mora Ramirez",
      "userId": "10641558471272987746"
     },
     "user_tz": 300
    },
    "id": "g_sQVkAHp6WD"
   },
   "outputs": [
    {
     "name": "stderr",
     "output_type": "stream",
     "text": [
      "/home/david/miniconda3/envs/kaggle/lib/python3.9/site-packages/tqdm/auto.py:22: TqdmWarning: IProgress not found. Please update jupyter and ipywidgets. See https://ipywidgets.readthedocs.io/en/stable/user_install.html\n",
      "  from .autonotebook import tqdm as notebook_tqdm\n"
     ]
    }
   ],
   "source": [
    "import torch\n",
    "import torchvision\n",
    "import torch.nn as nn\n",
    "import torchvision.transforms as T\n",
    "import torch.nn.functional as F\n",
    "from torch.utils.data import DataLoader, Dataset\n",
    "from torchvision.io import read_image\n",
    "from torchvision.transforms.functional import to_pil_image, center_crop\n",
    "from torchvision.utils import draw_segmentation_masks, make_grid\n",
    "from sklearn.model_selection import train_test_split, KFold, StratifiedKFold\n",
    "\n",
    "import pandas as pd\n",
    "import matplotlib.pyplot as plt\n",
    "import numpy as np\n",
    "import os\n",
    "from pathlib import Path\n",
    "from PIL import Image\n",
    "\n",
    "from webcolors import rgb_to_name\n",
    "\n",
    "from tqdm import tqdm\n",
    "\n",
    "%matplotlib inline\n",
    "\n",
    "data_dir = Path(\"../data/\")\n",
    "train_dir = data_dir / \"train\"\n",
    "test_dir = data_dir / \"test\"\n",
    "valid_dir = data_dir / \"valid\"\n",
    "\n",
    "classes = pd.read_csv(data_dir / \"class_dict.csv\")\n",
    "annotations = pd.read_csv(data_dir / \"metadata.csv\")\n",
    "\n",
    "image_ids = annotations[annotations[\"split\"] == \"train\"][\"image_id\"].values\n",
    "transformed_masks_path = data_dir / \"train_masks\"\n",
    "\n",
    "plt.rcParams[\"savefig.bbox\"] = \"tight\"\n",
    "\n",
    "\n",
    "def show(imgs):\n",
    "    \"\"\"Helper function to show images in the torch format\"\"\"\n",
    "    if not isinstance(imgs, list):\n",
    "        imgs = [imgs]\n",
    "    fig, axs = plt.subplots(ncols=len(imgs), squeeze=False, figsize=(100, 100))\n",
    "    for i, img in enumerate(imgs):\n",
    "        img = img.detach()\n",
    "        img = to_pil_image(img)\n",
    "        axs[0, i].imshow(np.asarray(img))\n",
    "        axs[0, i].set(xticklabels=[], yticklabels=[], xticks=[], yticks=[])\n",
    "\n",
    "\n",
    "# mapping from class indices to RGB\n",
    "class_to_rgb = {}\n",
    "for idx, row in classes.iterrows():\n",
    "    class_to_rgb[row[0]] = row[1:].to_list()\n",
    "class_colors = [tuple(x) for x in class_to_rgb.values()]\n",
    "num_classes = len(class_colors)\n",
    "\n",
    "# image ids\n",
    "train_ids, test_ids = train_test_split(\n",
    "    image_ids, train_size=0.8, shuffle=True, random_state=42\n",
    ")\n",
    "\n",
    "\n",
    "def preprocess_mask(mask, class_colors):\n",
    "    \"\"\"\n",
    "    Transforms a mask from RGB format to a tensor of shape (H, W)\n",
    "    where a pixel represents the class label\n",
    "    \"\"\"\n",
    "    num_classes = len(class_colors)\n",
    "    h, w = mask.shape[1:]  # shape expected to be (C, H, W)\n",
    "    semantic_map = torch.zeros((h, w), dtype=torch.uint8)\n",
    "    # iterate over all the classes\n",
    "    for idx, color in enumerate(class_colors):\n",
    "        color = torch.tensor(color).view(3, 1, 1)  # rgb value\n",
    "        class_map = torch.all(torch.eq(mask, color), 0)\n",
    "        semantic_map[class_map] = idx\n",
    "    return semantic_map\n",
    "\n",
    "\n",
    "def ohe_mask(mask, num_classes):\n",
    "    \"\"\"Turns a label tensor of shape(H, W) to (num_classes, H, W)\"\"\"\n",
    "    return torch.permute(\n",
    "        F.one_hot(mask.type(torch.long), num_classes=num_classes).type(torch.bool),\n",
    "        (2, 0, 1),\n",
    "    )"
   ]
  },
  {
   "cell_type": "markdown",
   "metadata": {
    "id": "5UJ_9C0plh9E"
   },
   "source": [
    "## Data loading"
   ]
  },
  {
   "cell_type": "code",
   "execution_count": 2,
   "metadata": {
    "id": "f0qh5iHFiUiw"
   },
   "outputs": [],
   "source": [
    "class LandcoverDataset(Dataset):\n",
    "    def __init__(\n",
    "        self, satimgs_dir, masks_dir, image_ids, transform=None, augmentations=None\n",
    "    ):\n",
    "        self.satimgs_dir = satimgs_dir\n",
    "        self.masks_dir = masks_dir\n",
    "        self.image_ids = image_ids\n",
    "        self.transform = transform\n",
    "        self.augmentations = augmentations\n",
    "\n",
    "    def __len__(self):\n",
    "        return len(self.image_ids)\n",
    "\n",
    "    def __getitem__(self, idx):\n",
    "        image_id = self.image_ids[idx]\n",
    "        # probably need to rescale the input values\n",
    "        sat_img = read_image(str(self.satimgs_dir / f\"{image_id}_sat.jpg\")).float()\n",
    "        mask = read_image(str(self.masks_dir / f\"{image_id}_mask.png\")).long()\n",
    "\n",
    "        if self.transform is not None:\n",
    "            sat_img = self.transform(sat_img)\n",
    "        if self.augmentations is not None:\n",
    "            mask = self.augmentations(mask)\n",
    "\n",
    "        return sat_img, mask.squeeze()"
   ]
  },
  {
   "cell_type": "markdown",
   "metadata": {
    "id": "kWjXbwNGWZAd",
    "jp-MarkdownHeadingCollapsed": true,
    "tags": []
   },
   "source": [
    "## My implementation"
   ]
  },
  {
   "cell_type": "code",
   "execution_count": null,
   "metadata": {
    "id": "oy2O9rRG2pKc"
   },
   "outputs": [],
   "source": [
    "def double_conv(in_channels, out_channels):\n",
    "    \"\"\"3x3Conv -> ReLU -> 3x3Conv ->ReLU\"\"\"\n",
    "    conv = nn.Sequential(\n",
    "        nn.Conv2d(\n",
    "            in_channels=in_channels, out_channels=out_channels, kernel_size=3, bias=True\n",
    "        ),\n",
    "        nn.ReLU(inplace=True),\n",
    "        nn.Conv2d(\n",
    "            in_channels=out_channels,\n",
    "            out_channels=out_channels,\n",
    "            kernel_size=3,\n",
    "            bias=True,\n",
    "        ),\n",
    "        nn.ReLU(inplace=True),\n",
    "    )\n",
    "    return conv\n",
    "\n",
    "\n",
    "class Unet(nn.Module):\n",
    "    \"\"\"Vanilla unet architecture from the original paper\"\"\"\n",
    "\n",
    "    def __init__(self):\n",
    "        super().__init__()\n",
    "        self.dconv1 = double_conv(in_channels=3, out_channels=64)\n",
    "        self.dconv2 = double_conv(in_channels=64, out_channels=128)\n",
    "        self.dconv3 = double_conv(in_channels=128, out_channels=256)\n",
    "        self.dconv4 = double_conv(in_channels=256, out_channels=512)\n",
    "        self.dconv5 = double_conv(in_channels=512, out_channels=1024)\n",
    "\n",
    "        self.tconv1 = nn.ConvTranspose2d(\n",
    "            in_channels=1024, out_channels=512, kernel_size=(2, 2), stride=2, padding=0\n",
    "        )\n",
    "        self.dconv6 = double_conv(in_channels=1024, out_channels=512)\n",
    "        self.tconv2 = nn.ConvTranspose2d(\n",
    "            in_channels=512, out_channels=256, kernel_size=(2, 2), stride=2, padding=0\n",
    "        )\n",
    "        self.dconv7 = double_conv(in_channels=512, out_channels=256)\n",
    "        self.tconv3 = nn.ConvTranspose2d(\n",
    "            in_channels=256, out_channels=128, kernel_size=(2, 2), stride=2, padding=0\n",
    "        )\n",
    "        self.dconv8 = double_conv(in_channels=256, out_channels=128)\n",
    "        self.tconv4 = nn.ConvTranspose2d(\n",
    "            in_channels=128, out_channels=64, kernel_size=(2, 2), stride=2, padding=0\n",
    "        )\n",
    "        self.dconv9 = double_conv(in_channels=128, out_channels=64)\n",
    "\n",
    "        self.outconv = nn.Conv2d(\n",
    "            in_channels=64, out_channels=num_classes, kernel_size=(1, 1), bias=True\n",
    "        )\n",
    "\n",
    "    def forward(self, x):\n",
    "        # contracting path\n",
    "        s1 = self.dconv1(x)\n",
    "        x = F.max_pool2d(s1, kernel_size=(2, 2))\n",
    "        s2 = self.dconv2(x)\n",
    "        x = F.max_pool2d(s2, kernel_size=(2, 2))\n",
    "        s3 = self.dconv3(x)\n",
    "        x = F.max_pool2d(s3, kernel_size=(2, 2))\n",
    "        s4 = self.dconv4(x)\n",
    "        x = F.max_pool2d(s4, kernel_size=(2, 2))\n",
    "\n",
    "        x = self.dconv5(x)\n",
    "\n",
    "        # expansive path\n",
    "        x = F.relu(self.tconv1(x))\n",
    "        x = self.dconv6(torch.cat((x, center_crop(s4, x.shape[-1])), dim=1))\n",
    "        x = F.relu(self.tconv2(x))\n",
    "        x = self.dconv7(torch.cat((x, center_crop(s3, x.shape[-1])), dim=1))\n",
    "        x = F.relu(self.tconv3(x))\n",
    "        x = self.dconv8(torch.cat((x, center_crop(s2, x.shape[-1])), dim=1))\n",
    "        x = F.relu(self.tconv4(x))\n",
    "        x = self.dconv9(torch.cat((x, center_crop(s1, x.shape[-1])), dim=1))\n",
    "\n",
    "        x = self.outconv(x)\n",
    "        return x"
   ]
  },
  {
   "cell_type": "markdown",
   "metadata": {
    "id": "Q1irw3UzBTJW",
    "tags": []
   },
   "source": [
    "## Analisis de las probabilidades en inicialización"
   ]
  },
  {
   "cell_type": "code",
   "execution_count": 5,
   "metadata": {
    "colab": {
     "base_uri": "https://localhost:8080/",
     "height": 36
    },
    "executionInfo": {
     "elapsed": 208,
     "status": "ok",
     "timestamp": 1674063712320,
     "user": {
      "displayName": "David Felipe Mora Ramirez",
      "userId": "10641558471272987746"
     },
     "user_tz": 300
    },
    "id": "g6IBQEJWruQK",
    "outputId": "5e868d4f-29aa-49cb-f1db-bdb7c49e2361"
   },
   "outputs": [
    {
     "data": {
      "text/plain": [
       "'Expected initial loss: 1.94591'"
      ]
     },
     "execution_count": 5,
     "metadata": {},
     "output_type": "execute_result"
    }
   ],
   "source": [
    "f\"Expected initial loss: {-torch.tensor(1/num_classes).log().item():.5f}\""
   ]
  },
  {
   "cell_type": "markdown",
   "metadata": {
    "id": "7tQG47erAojc"
   },
   "source": [
    "Cómo se pudo ver en el análisis exploratorio, la clase de terreno agricola es dominante en las imágenes, por lo tanto, queremos ver qué valor tomaría la función de pérdida asumiendo que la mayoría de las veces le va a asignar una alta probabilidad a esta clase sobre las demas:"
   ]
  },
  {
   "cell_type": "code",
   "execution_count": null,
   "metadata": {
    "colab": {
     "base_uri": "https://localhost:8080/"
    },
    "executionInfo": {
     "elapsed": 310,
     "status": "ok",
     "timestamp": 1674064457905,
     "user": {
      "displayName": "David Felipe Mora Ramirez",
      "userId": "10641558471272987746"
     },
     "user_tz": 300
    },
    "id": "GTFq6NSJ-Q3m",
    "outputId": "707bb7ef-8dcc-48e5-bf67-6e5cc1f9c5c6"
   },
   "outputs": [
    {
     "name": "stdout",
     "output_type": "stream",
     "text": [
      "loss for predicting class 0 most of the time: 2.22530\n",
      "loss for predicting class 1 most of the time: 0.54929\n",
      "loss for predicting class 2 most of the time: 2.46699\n",
      "loss for predicting class 3 most of the time: 2.19266\n",
      "loss for predicting class 4 most of the time: 3.40746\n",
      "loss for predicting class 5 most of the time: 2.47091\n",
      "loss for predicting class 6 most of the time: 7.57768\n"
     ]
    }
   ],
   "source": [
    "props = [\n",
    "    0.108034648001194,\n",
    "    0.5773615837097168,\n",
    "    0.08483955264091492,\n",
    "    0.11161921918392181,\n",
    "    0.0331253856420517,\n",
    "    0.08450789749622345,\n",
    "    0.0005117484251968563,\n",
    "]\n",
    "for idx, p in enumerate(props):\n",
    "    print(\n",
    "        f\"loss for predicting class {idx} most of the time: {-torch.tensor(p).log().item():.5f}\"\n",
    "    )"
   ]
  },
  {
   "cell_type": "markdown",
   "metadata": {
    "id": "0d4PXR3JBG0X"
   },
   "source": [
    "Podemos observar que con esta sencilla suposición el baseline y la pérdida es mucho más bajo que suponiendo que todas las clases tuvieran la misma probabilidad.\n",
    "\n",
    "----"
   ]
  },
  {
   "cell_type": "markdown",
   "metadata": {
    "id": "Jv6RohNbPOzy",
    "tags": []
   },
   "source": [
    "## Overfitting a single batch of images\n",
    "\n",
    "Ahora estoy intentando hacer overfit en un batch de datos de 5 imagenes. Estoy usando un optimizador SGD con una taza de aprendizaje de 0.001. "
   ]
  },
  {
   "cell_type": "markdown",
   "metadata": {
    "id": "QcZjySlHFwii"
   },
   "source": [
    "Durante el procesamiento de datos olvide escalar los valores de las imágenes de entrada a números pequeños. Con el fin de comprobar que efectivamente es necesario reescalar estos valores voy a hacer un pequeño experimento en el cual voy a intentar hacer overfitting sobre un batch de 5 imagenes. Espero ver que las imágenes que toman valores pequeños tienen mejores resultados en términos de la tasa de convergencia de la función de pérdida."
   ]
  },
  {
   "cell_type": "code",
   "execution_count": 6,
   "metadata": {
    "colab": {
     "base_uri": "https://localhost:8080/"
    },
    "executionInfo": {
     "elapsed": 169,
     "status": "ok",
     "timestamp": 1674181428898,
     "user": {
      "displayName": "David Felipe Mora Ramirez",
      "userId": "10641558471272987746"
     },
     "user_tz": 300
    },
    "id": "v1-doo8UZ_ta",
    "outputId": "d2baa3c2-9def-4542-85b2-38683c81ea81"
   },
   "outputs": [
    {
     "name": "stdout",
     "output_type": "stream",
     "text": [
      "Allocated GPU memory 0\n"
     ]
    }
   ],
   "source": [
    "temp_dataset = LandcoverDataset(\n",
    "    train_dir,\n",
    "    transformed_masks_path,\n",
    "    train_ids,\n",
    "    transform=torchvision.transforms.Resize(512),\n",
    "    augmentations=torchvision.transforms.Resize(324),\n",
    ")\n",
    "device = \"cuda\" if torch.cuda.is_available() else \"cpu\"\n",
    "\n",
    "print(\"Allocated GPU memory\", torch.cuda.memory_allocated())"
   ]
  },
  {
   "cell_type": "code",
   "execution_count": null,
   "metadata": {
    "id": "sT56p00scEo_"
   },
   "outputs": [],
   "source": [
    "def overfit_one_batch(X, y, iters, lr=0.001):\n",
    "    torch.manual_seed(1)\n",
    "    lossi = []\n",
    "    model = Unet().to(device)\n",
    "    optimizer = torch.optim.SGD(model.parameters(), lr=lr)\n",
    "    X, y = X.to(device), y.to(device)\n",
    "    loss_fn = nn.CrossEntropyLoss()\n",
    "\n",
    "    model.train()\n",
    "    for i in range(iters):\n",
    "        preds = model(X)\n",
    "        loss = loss_fn(preds, y)\n",
    "        # backward pass\n",
    "        optimizer.zero_grad()\n",
    "        loss.backward()\n",
    "        optimizer.step()\n",
    "\n",
    "        lossi.append(loss.detach().item())\n",
    "        if i % 50 == 0:\n",
    "            print(f\"loss: {loss.item():>7f}  [{i:>5d}/{iters:>5d}]\")\n",
    "\n",
    "        plt.plot(lossi)\n",
    "\n",
    "    with torch.no_grad():\n",
    "        return model(X)"
   ]
  },
  {
   "cell_type": "code",
   "execution_count": 7,
   "metadata": {
    "id": "eqc_yUwZEb09"
   },
   "outputs": [],
   "source": [
    "temp_dataloader = DataLoader(temp_dataset, batch_size=5)\n",
    "X, y = next(iter(temp_dataloader))"
   ]
  },
  {
   "cell_type": "markdown",
   "metadata": {
    "id": "k3Nm4CYBItC1"
   },
   "source": [
    "Estas son las imagenes del batch:"
   ]
  },
  {
   "cell_type": "code",
   "execution_count": null,
   "metadata": {
    "colab": {
     "base_uri": "https://localhost:8080/",
     "height": 249,
     "output_embedded_package_id": "1jfp_ljLHAgUjdJKOub1S-p7zDRyXVYZM"
    },
    "executionInfo": {
     "elapsed": 10853,
     "status": "ok",
     "timestamp": 1674181441239,
     "user": {
      "displayName": "David Felipe Mora Ramirez",
      "userId": "10641558471272987746"
     },
     "user_tz": 300
    },
    "id": "CgKSs1jjIWZy",
    "outputId": "5a475450-9534-4076-d466-93988f3b4b44"
   },
   "outputs": [
    {
     "data": {
      "text/plain": [
       "Output hidden; open in https://colab.research.google.com to view."
      ]
     },
     "metadata": {},
     "output_type": "display_data"
    }
   ],
   "source": [
    "imgs = [X[i].type(torch.uint8) for i in range(5)]\n",
    "show(make_grid(imgs))"
   ]
  },
  {
   "cell_type": "markdown",
   "metadata": {
    "id": "xX8F7fUVd0WQ"
   },
   "source": [
    "Junto con sus respectivas segmentaciones:"
   ]
  },
  {
   "cell_type": "code",
   "execution_count": null,
   "metadata": {
    "colab": {
     "base_uri": "https://localhost:8080/",
     "height": 250
    },
    "executionInfo": {
     "elapsed": 1737,
     "status": "ok",
     "timestamp": 1674181451256,
     "user": {
      "displayName": "David Felipe Mora Ramirez",
      "userId": "10641558471272987746"
     },
     "user_tz": 300
    },
    "id": "vwBM3zKtSNvO",
    "outputId": "8e7db6c7-fbb4-4b9a-fcde-3c1bda4855b2"
   },
   "outputs": [
    {
     "data": {
      "image/png": "[encoded data removed]",
      "text/plain": [
       "<Figure size 7200x7200 with 1 Axes>"
      ]
     },
     "metadata": {},
     "output_type": "display_data"
    }
   ],
   "source": [
    "masks = [y[i].type(torch.uint8) for i in range(5)]\n",
    "masks = [\n",
    "    draw_segmentation_masks(\n",
    "        torch.zeros((3, mask.shape[-1], mask.shape[-1]), dtype=torch.uint8),\n",
    "        ohe_mask(mask, num_classes),\n",
    "        alpha=1,\n",
    "        colors=class_colors,\n",
    "    )\n",
    "    for mask in masks\n",
    "]\n",
    "show(make_grid(masks))"
   ]
  },
  {
   "cell_type": "code",
   "execution_count": null,
   "metadata": {
    "colab": {
     "base_uri": "https://localhost:8080/",
     "height": 265
    },
    "executionInfo": {
     "elapsed": 780,
     "status": "ok",
     "timestamp": 1674181469596,
     "user": {
      "displayName": "David Felipe Mora Ramirez",
      "userId": "10641558471272987746"
     },
     "user_tz": 300
    },
    "id": "N2sVTYUyHqA2",
    "outputId": "34c0cc3e-1913-450e-e0d9-acafb9bf18ab"
   },
   "outputs": [
    {
     "data": {
      "image/png": "[encoded data removed]",
      "text/plain": [
       "<Figure size 432x288 with 1 Axes>"
      ]
     },
     "metadata": {
      "needs_background": "light"
     },
     "output_type": "display_data"
    }
   ],
   "source": [
    "# visualizamos la distribucion de los valores que toman estas imagenes\n",
    "plt.hist(X.view(-1).tolist(), 50);"
   ]
  },
  {
   "cell_type": "code",
   "execution_count": null,
   "metadata": {
    "colab": {
     "base_uri": "https://localhost:8080/",
     "height": 1000
    },
    "executionInfo": {
     "elapsed": 1453219,
     "status": "ok",
     "timestamp": 1674182977448,
     "user": {
      "displayName": "David Felipe Mora Ramirez",
      "userId": "10641558471272987746"
     },
     "user_tz": 300
    },
    "id": "IIpIBo5JdNTh",
    "outputId": "beb6605b-08fa-4505-f371-323d810da504"
   },
   "outputs": [
    {
     "name": "stdout",
     "output_type": "stream",
     "text": [
      "loss: 2.351725  [    0/ 2000]\n",
      "loss: 0.248741  [   50/ 2000]\n",
      "loss: 0.243633  [  100/ 2000]\n",
      "loss: 0.240949  [  150/ 2000]\n",
      "loss: 0.238910  [  200/ 2000]\n",
      "loss: 0.237444  [  250/ 2000]\n",
      "loss: 0.236128  [  300/ 2000]\n",
      "loss: 0.234869  [  350/ 2000]\n",
      "loss: 0.233694  [  400/ 2000]\n",
      "loss: 0.232638  [  450/ 2000]\n",
      "loss: 0.231645  [  500/ 2000]\n",
      "loss: 0.230685  [  550/ 2000]\n",
      "loss: 0.229716  [  600/ 2000]\n",
      "loss: 0.228859  [  650/ 2000]\n",
      "loss: 0.228045  [  700/ 2000]\n",
      "loss: 0.227308  [  750/ 2000]\n",
      "loss: 0.226666  [  800/ 2000]\n",
      "loss: 0.226079  [  850/ 2000]\n",
      "loss: 0.228013  [  900/ 2000]\n",
      "loss: 0.227655  [  950/ 2000]\n",
      "loss: 0.227476  [ 1000/ 2000]\n",
      "loss: 0.227296  [ 1050/ 2000]\n",
      "loss: 0.227086  [ 1100/ 2000]\n",
      "loss: 0.226838  [ 1150/ 2000]\n",
      "loss: 0.226556  [ 1200/ 2000]\n",
      "loss: 0.226281  [ 1250/ 2000]\n",
      "loss: 0.226024  [ 1300/ 2000]\n",
      "loss: 0.225799  [ 1350/ 2000]\n",
      "loss: 0.225588  [ 1400/ 2000]\n",
      "loss: 0.225372  [ 1450/ 2000]\n",
      "loss: 0.225163  [ 1500/ 2000]\n",
      "loss: 0.224974  [ 1550/ 2000]\n",
      "loss: 0.224780  [ 1600/ 2000]\n",
      "loss: 0.224588  [ 1650/ 2000]\n",
      "loss: 0.224406  [ 1700/ 2000]\n",
      "loss: 0.224227  [ 1750/ 2000]\n",
      "loss: 0.224048  [ 1800/ 2000]\n",
      "loss: 0.223870  [ 1850/ 2000]\n",
      "loss: 0.223709  [ 1900/ 2000]\n",
      "loss: 0.223557  [ 1950/ 2000]\n",
      "CPU times: user 24min 2s, sys: 2.45 s, total: 24min 5s\n",
      "Wall time: 24min 10s\n"
     ]
    },
    {
     "data": {
      "image/png": "[encoded data removed]",
      "text/plain": [
       "<Figure size 432x288 with 1 Axes>"
      ]
     },
     "metadata": {
      "needs_background": "light"
     },
     "output_type": "display_data"
    }
   ],
   "source": [
    "%%time\n",
    "# tensor without scaling\n",
    "preds1 = overfit_one_batch(X, y, 2000)"
   ]
  },
  {
   "cell_type": "code",
   "execution_count": null,
   "metadata": {
    "colab": {
     "base_uri": "https://localhost:8080/"
    },
    "executionInfo": {
     "elapsed": 27,
     "status": "ok",
     "timestamp": 1674182977451,
     "user": {
      "displayName": "David Felipe Mora Ramirez",
      "userId": "10641558471272987746"
     },
     "user_tz": 300
    },
    "id": "AZn_lShh86Ey",
    "outputId": "e71f4fad-8c39-43cb-8ef0-cd8af2d1bd2e"
   },
   "outputs": [
    {
     "data": {
      "text/plain": [
       "torch.Size([5, 324, 324])"
      ]
     },
     "execution_count": 36,
     "metadata": {},
     "output_type": "execute_result"
    }
   ],
   "source": [
    "preds1_argmaxed = torch.argmax(preds1, 1)\n",
    "preds1_argmaxed.shape"
   ]
  },
  {
   "cell_type": "code",
   "execution_count": null,
   "metadata": {
    "colab": {
     "base_uri": "https://localhost:8080/",
     "height": 250
    },
    "executionInfo": {
     "elapsed": 1637,
     "status": "ok",
     "timestamp": 1674182979068,
     "user": {
      "displayName": "David Felipe Mora Ramirez",
      "userId": "10641558471272987746"
     },
     "user_tz": 300
    },
    "id": "SD3lPfwl_3v8",
    "outputId": "23406238-2b10-4e11-ba64-8c6e5845c7bd"
   },
   "outputs": [
    {
     "data": {
      "image/png": "[encoded data removed]",
      "text/plain": [
       "<Figure size 7200x7200 with 1 Axes>"
      ]
     },
     "metadata": {},
     "output_type": "display_data"
    }
   ],
   "source": [
    "masks = [preds1_argmaxed[i].type(torch.uint8) for i in range(5)]\n",
    "masks = [\n",
    "    draw_segmentation_masks(\n",
    "        torch.zeros((3, mask.shape[-1], mask.shape[-1]), dtype=torch.uint8),\n",
    "        ohe_mask(mask, num_classes),\n",
    "        alpha=1,\n",
    "        colors=class_colors,\n",
    "    )\n",
    "    for mask in preds1_argmaxed\n",
    "]\n",
    "show(make_grid(masks))"
   ]
  },
  {
   "cell_type": "markdown",
   "metadata": {
    "id": "n0aGh8Ql4uEI"
   },
   "source": [
    "Ahora reescalamos los valores de las imagenes de entrada para que estén en el intervalo de 0 a 1"
   ]
  },
  {
   "cell_type": "code",
   "execution_count": null,
   "metadata": {
    "colab": {
     "base_uri": "https://localhost:8080/",
     "height": 265
    },
    "executionInfo": {
     "elapsed": 1303,
     "status": "ok",
     "timestamp": 1674013949565,
     "user": {
      "displayName": "David Felipe Mora Ramirez",
      "userId": "10641558471272987746"
     },
     "user_tz": 300
    },
    "id": "cLbvQ1zpgD49",
    "outputId": "30615e04-ed3e-454b-bc79-67ed8bd1a07e"
   },
   "outputs": [
    {
     "data": {
      "image/png": "[encoded data removed]",
      "text/plain": [
       "<Figure size 432x288 with 1 Axes>"
      ]
     },
     "metadata": {
      "needs_background": "light"
     },
     "output_type": "display_data"
    }
   ],
   "source": [
    "plt.hist((X.view(-1) / 255.0).tolist(), 50);"
   ]
  },
  {
   "cell_type": "code",
   "execution_count": null,
   "metadata": {
    "colab": {
     "base_uri": "https://localhost:8080/",
     "height": 1000
    },
    "executionInfo": {
     "elapsed": 1440435,
     "status": "ok",
     "timestamp": 1674184420065,
     "user": {
      "displayName": "David Felipe Mora Ramirez",
      "userId": "10641558471272987746"
     },
     "user_tz": 300
    },
    "id": "hV4rdmTyGiyv",
    "outputId": "25715fd6-a820-472b-d685-7b4ec162d856"
   },
   "outputs": [
    {
     "name": "stdout",
     "output_type": "stream",
     "text": [
      "loss: 2.017806  [    0/ 2000]\n",
      "loss: 1.965218  [   50/ 2000]\n",
      "loss: 1.914631  [  100/ 2000]\n",
      "loss: 1.867703  [  150/ 2000]\n",
      "loss: 1.822326  [  200/ 2000]\n",
      "loss: 1.777416  [  250/ 2000]\n",
      "loss: 1.732618  [  300/ 2000]\n",
      "loss: 1.687021  [  350/ 2000]\n",
      "loss: 1.639900  [  400/ 2000]\n",
      "loss: 1.589501  [  450/ 2000]\n",
      "loss: 1.530757  [  500/ 2000]\n",
      "loss: 1.456804  [  550/ 2000]\n",
      "loss: 1.358250  [  600/ 2000]\n",
      "loss: 1.205605  [  650/ 2000]\n",
      "loss: 0.954845  [  700/ 2000]\n",
      "loss: 0.625011  [  750/ 2000]\n",
      "loss: 0.418295  [  800/ 2000]\n",
      "loss: 0.351308  [  850/ 2000]\n",
      "loss: 0.329771  [  900/ 2000]\n",
      "loss: 0.319725  [  950/ 2000]\n",
      "loss: 0.312686  [ 1000/ 2000]\n",
      "loss: 0.306597  [ 1050/ 2000]\n",
      "loss: 0.301006  [ 1100/ 2000]\n",
      "loss: 0.295778  [ 1150/ 2000]\n",
      "loss: 0.290855  [ 1200/ 2000]\n",
      "loss: 0.286204  [ 1250/ 2000]\n",
      "loss: 0.281818  [ 1300/ 2000]\n",
      "loss: 0.277707  [ 1350/ 2000]\n",
      "loss: 0.273880  [ 1400/ 2000]\n",
      "loss: 0.270343  [ 1450/ 2000]\n",
      "loss: 0.267100  [ 1500/ 2000]\n",
      "loss: 0.264148  [ 1550/ 2000]\n",
      "loss: 0.261481  [ 1600/ 2000]\n",
      "loss: 0.259090  [ 1650/ 2000]\n",
      "loss: 0.256959  [ 1700/ 2000]\n",
      "loss: 0.255072  [ 1750/ 2000]\n",
      "loss: 0.253409  [ 1800/ 2000]\n",
      "loss: 0.251948  [ 1850/ 2000]\n",
      "loss: 0.250669  [ 1900/ 2000]\n",
      "loss: 0.249551  [ 1950/ 2000]\n",
      "CPU times: user 24min, sys: 1.2 s, total: 24min 1s\n",
      "Wall time: 23min 58s\n"
     ]
    },
    {
     "data": {
      "image/png": "[encoded data removed]",
      "text/plain": [
       "<Figure size 432x288 with 1 Axes>"
      ]
     },
     "metadata": {
      "needs_background": "light"
     },
     "output_type": "display_data"
    }
   ],
   "source": [
    "%%time\n",
    "preds2 = overfit_one_batch(X / 255.0, y, 2000)"
   ]
  },
  {
   "cell_type": "code",
   "execution_count": null,
   "metadata": {
    "colab": {
     "base_uri": "https://localhost:8080/"
    },
    "executionInfo": {
     "elapsed": 58,
     "status": "ok",
     "timestamp": 1674184420067,
     "user": {
      "displayName": "David Felipe Mora Ramirez",
      "userId": "10641558471272987746"
     },
     "user_tz": 300
    },
    "id": "Ne6ByieRAjKN",
    "outputId": "020593dd-b5fe-4c51-a08c-03e6a3d9f0af"
   },
   "outputs": [
    {
     "data": {
      "text/plain": [
       "torch.Size([5, 324, 324])"
      ]
     },
     "execution_count": 39,
     "metadata": {},
     "output_type": "execute_result"
    }
   ],
   "source": [
    "preds2_argmaxed = torch.argmax(preds2, 1)\n",
    "preds2_argmaxed.shape"
   ]
  },
  {
   "cell_type": "code",
   "execution_count": null,
   "metadata": {
    "colab": {
     "base_uri": "https://localhost:8080/",
     "height": 250
    },
    "executionInfo": {
     "elapsed": 2182,
     "status": "ok",
     "timestamp": 1674184422221,
     "user": {
      "displayName": "David Felipe Mora Ramirez",
      "userId": "10641558471272987746"
     },
     "user_tz": 300
    },
    "id": "m-5iKVzPAkkd",
    "outputId": "75b4246c-e57c-44ff-8395-efbf0d726bed"
   },
   "outputs": [
    {
     "data": {
      "image/png": "[encoded data removed]",
      "text/plain": [
       "<Figure size 7200x7200 with 1 Axes>"
      ]
     },
     "metadata": {},
     "output_type": "display_data"
    }
   ],
   "source": [
    "masks = [preds2_argmaxed[i].type(torch.uint8) for i in range(5)]\n",
    "masks = [\n",
    "    draw_segmentation_masks(\n",
    "        torch.zeros((3, mask.shape[-1], mask.shape[-1]), dtype=torch.uint8),\n",
    "        ohe_mask(mask, num_classes),\n",
    "        alpha=1,\n",
    "        colors=class_colors,\n",
    "    )\n",
    "    for mask in preds2_argmaxed\n",
    "]\n",
    "show(make_grid(masks))"
   ]
  },
  {
   "cell_type": "markdown",
   "metadata": {
    "id": "MAaNEzpNDfze"
   },
   "source": [
    "Ahora normalizamos para que los datos tengan una media de 0 y desviación estandar de 1."
   ]
  },
  {
   "cell_type": "code",
   "execution_count": null,
   "metadata": {
    "id": "GQl5D9JuD0dJ"
   },
   "outputs": [],
   "source": [
    "X_norm = torch.zeros(X.shape)\n",
    "for c in range(3):\n",
    "    mean = X[:, c].mean()\n",
    "    std = X[:, c].std()\n",
    "    X_norm[:, c] = (X[:, c] - mean) / std"
   ]
  },
  {
   "cell_type": "code",
   "execution_count": null,
   "metadata": {
    "colab": {
     "base_uri": "https://localhost:8080/",
     "height": 265
    },
    "executionInfo": {
     "elapsed": 332,
     "status": "ok",
     "timestamp": 1674184422527,
     "user": {
      "displayName": "David Felipe Mora Ramirez",
      "userId": "10641558471272987746"
     },
     "user_tz": 300
    },
    "id": "LfIpzGTgD61j",
    "outputId": "d3add067-7c3a-450f-97a3-a369983d9b00"
   },
   "outputs": [
    {
     "data": {
      "image/png": "[encoded data removed]",
      "text/plain": [
       "<Figure size 432x288 with 1 Axes>"
      ]
     },
     "metadata": {
      "needs_background": "light"
     },
     "output_type": "display_data"
    }
   ],
   "source": [
    "plt.hist(X_norm.view(-1).tolist(), 50);"
   ]
  },
  {
   "cell_type": "code",
   "execution_count": null,
   "metadata": {
    "colab": {
     "base_uri": "https://localhost:8080/",
     "height": 1000
    },
    "executionInfo": {
     "elapsed": 1453015,
     "status": "ok",
     "timestamp": 1674185875515,
     "user": {
      "displayName": "David Felipe Mora Ramirez",
      "userId": "10641558471272987746"
     },
     "user_tz": 300
    },
    "id": "ZIYK-OgPE8i-",
    "outputId": "2727d06a-df92-4326-91f3-e9094c8bcd8f"
   },
   "outputs": [
    {
     "name": "stdout",
     "output_type": "stream",
     "text": [
      "loss: 2.024401  [    0/ 2000]\n",
      "loss: 1.964999  [   50/ 2000]\n",
      "loss: 1.906653  [  100/ 2000]\n",
      "loss: 1.847803  [  150/ 2000]\n",
      "loss: 1.784416  [  200/ 2000]\n",
      "loss: 1.708169  [  250/ 2000]\n",
      "loss: 1.603021  [  300/ 2000]\n",
      "loss: 1.429247  [  350/ 2000]\n",
      "loss: 1.100481  [  400/ 2000]\n",
      "loss: 0.690302  [  450/ 2000]\n",
      "loss: 0.492777  [  500/ 2000]\n",
      "loss: 0.433620  [  550/ 2000]\n",
      "loss: 0.409692  [  600/ 2000]\n",
      "loss: 0.394404  [  650/ 2000]\n",
      "loss: 0.381791  [  700/ 2000]\n",
      "loss: 0.370394  [  750/ 2000]\n",
      "loss: 0.359818  [  800/ 2000]\n",
      "loss: 0.349970  [  850/ 2000]\n",
      "loss: 0.340845  [  900/ 2000]\n",
      "loss: 0.332459  [  950/ 2000]\n",
      "loss: 0.324824  [ 1000/ 2000]\n",
      "loss: 0.317945  [ 1050/ 2000]\n",
      "loss: 0.311814  [ 1100/ 2000]\n",
      "loss: 0.306405  [ 1150/ 2000]\n",
      "loss: 0.301674  [ 1200/ 2000]\n",
      "loss: 0.297565  [ 1250/ 2000]\n",
      "loss: 0.294007  [ 1300/ 2000]\n",
      "loss: 0.290924  [ 1350/ 2000]\n",
      "loss: 0.288239  [ 1400/ 2000]\n",
      "loss: 0.285904  [ 1450/ 2000]\n",
      "loss: 0.283897  [ 1500/ 2000]\n",
      "loss: 0.282165  [ 1550/ 2000]\n",
      "loss: 0.280647  [ 1600/ 2000]\n",
      "loss: 0.279308  [ 1650/ 2000]\n",
      "loss: 0.278119  [ 1700/ 2000]\n",
      "loss: 0.277056  [ 1750/ 2000]\n",
      "loss: 0.276102  [ 1800/ 2000]\n",
      "loss: 0.275242  [ 1850/ 2000]\n",
      "loss: 0.274460  [ 1900/ 2000]\n",
      "loss: 0.273746  [ 1950/ 2000]\n",
      "CPU times: user 24min 12s, sys: 1.15 s, total: 24min 13s\n",
      "Wall time: 24min 11s\n"
     ]
    },
    {
     "data": {
      "image/png": "[encoded data removed]",
      "text/plain": [
       "<Figure size 432x288 with 1 Axes>"
      ]
     },
     "metadata": {
      "needs_background": "light"
     },
     "output_type": "display_data"
    }
   ],
   "source": [
    "%%time\n",
    "preds3 = overfit_one_batch(X_norm, y, 2000)"
   ]
  },
  {
   "cell_type": "code",
   "execution_count": null,
   "metadata": {
    "id": "5w8mJJtjjA52"
   },
   "outputs": [],
   "source": [
    "def make_predictions(preds):\n",
    "    preds_argmaxed = torch.argmax(preds, 1)\n",
    "    masks = [preds_argmaxed[i].type(torch.uint8) for i in range(5)]\n",
    "    masks = [\n",
    "        draw_segmentation_masks(\n",
    "            torch.zeros((3, mask.shape[-1], mask.shape[-1]), dtype=torch.uint8),\n",
    "            ohe_mask(mask, num_classes),\n",
    "            alpha=1,\n",
    "            colors=class_colors,\n",
    "        )\n",
    "        for mask in preds_argmaxed\n",
    "    ]\n",
    "    show(make_grid(masks))"
   ]
  },
  {
   "cell_type": "code",
   "execution_count": null,
   "metadata": {
    "colab": {
     "base_uri": "https://localhost:8080/"
    },
    "executionInfo": {
     "elapsed": 17,
     "status": "ok",
     "timestamp": 1674185875516,
     "user": {
      "displayName": "David Felipe Mora Ramirez",
      "userId": "10641558471272987746"
     },
     "user_tz": 300
    },
    "id": "rkv_MRzgFCeO",
    "outputId": "44be0a41-aaab-4d2b-efd4-32d99b2dc3a0"
   },
   "outputs": [
    {
     "data": {
      "text/plain": [
       "torch.Size([5, 324, 324])"
      ]
     },
     "execution_count": 44,
     "metadata": {},
     "output_type": "execute_result"
    }
   ],
   "source": [
    "preds3_argmaxed = torch.argmax(preds3, 1)\n",
    "preds3_argmaxed.shape"
   ]
  },
  {
   "cell_type": "code",
   "execution_count": null,
   "metadata": {
    "colab": {
     "base_uri": "https://localhost:8080/",
     "height": 250
    },
    "executionInfo": {
     "elapsed": 1591,
     "status": "ok",
     "timestamp": 1674185877098,
     "user": {
      "displayName": "David Felipe Mora Ramirez",
      "userId": "10641558471272987746"
     },
     "user_tz": 300
    },
    "id": "ySNKdYLyFGJT",
    "outputId": "c4f66692-1fe9-44cd-f035-190dc25e6983"
   },
   "outputs": [
    {
     "data": {
      "image/png": "[encoded data removed]",
      "text/plain": [
       "<Figure size 7200x7200 with 1 Axes>"
      ]
     },
     "metadata": {},
     "output_type": "display_data"
    }
   ],
   "source": [
    "masks = [preds3_argmaxed[i].type(torch.uint8) for i in range(5)]\n",
    "masks = [\n",
    "    draw_segmentation_masks(\n",
    "        torch.zeros((3, mask.shape[-1], mask.shape[-1]), dtype=torch.uint8),\n",
    "        ohe_mask(mask, num_classes),\n",
    "        alpha=1,\n",
    "        colors=class_colors,\n",
    "    )\n",
    "    for mask in preds3_argmaxed\n",
    "]\n",
    "show(make_grid(masks))"
   ]
  },
  {
   "cell_type": "markdown",
   "metadata": {
    "id": "fbytmn0dZxrc"
   },
   "source": [
    "Puede observar que en la primera parte del entrenamiento la pérdida es bastante alta. Ante esto quiero ver cómo se comporta entrenamiento si uno calibrar las probabilidades de la capa de salida en inicialización para qué se acerquen mejor a las proporciones de las clases."
   ]
  },
  {
   "cell_type": "code",
   "execution_count": null,
   "metadata": {
    "id": "7imn2ofcTZMB"
   },
   "outputs": [],
   "source": [
    "def overfit_one_batch(X, y, iters, lr=0.001):\n",
    "    torch.manual_seed(1)\n",
    "    lossi = []\n",
    "    model = Unet()\n",
    "    with torch.no_grad():\n",
    "        model.outconv.weight *= 0.1\n",
    "        model.outconv.bias = nn.parameter.Parameter(\n",
    "            torch.tensor(\n",
    "                [\n",
    "                    0.108034648001194,\n",
    "                    0.5773615837097168,\n",
    "                    0.08483955264091492,\n",
    "                    0.11161921918392181,\n",
    "                    0.0331253856420517,\n",
    "                    0.08450789749622345,\n",
    "                    0.0005117484251968563,\n",
    "                ]\n",
    "            )\n",
    "        )\n",
    "\n",
    "    model.to(device)\n",
    "    optimizer = torch.optim.SGD(model.parameters(), lr=lr)\n",
    "    X, y = X.to(device), y.to(device)\n",
    "    loss_fn = nn.CrossEntropyLoss()\n",
    "\n",
    "    model.train()\n",
    "    for i in range(iters):\n",
    "        preds = model(X)\n",
    "        loss = loss_fn(preds, y)\n",
    "        # backward pass\n",
    "        optimizer.zero_grad()\n",
    "        loss.backward()\n",
    "        optimizer.step()\n",
    "\n",
    "        lossi.append(loss.detach().item())\n",
    "        if i % 50 == 0:\n",
    "            print(f\"loss: {loss.item():>7f}  [{i:>5d}/{iters:>5d}]\")\n",
    "\n",
    "        plt.plot(lossi)\n",
    "\n",
    "    with torch.no_grad():\n",
    "        return model(X)"
   ]
  },
  {
   "cell_type": "code",
   "execution_count": null,
   "metadata": {
    "colab": {
     "base_uri": "https://localhost:8080/",
     "height": 1000
    },
    "executionInfo": {
     "elapsed": 1439552,
     "status": "ok",
     "timestamp": 1674188239231,
     "user": {
      "displayName": "David Felipe Mora Ramirez",
      "userId": "10641558471272987746"
     },
     "user_tz": 300
    },
    "id": "_PXyv5UbTpsS",
    "outputId": "6041a9f4-9cb1-478e-95d0-63a477cccdff"
   },
   "outputs": [
    {
     "name": "stdout",
     "output_type": "stream",
     "text": [
      "loss: 1.562508  [    0/ 2000]\n",
      "loss: 1.531489  [   50/ 2000]\n",
      "loss: 1.501124  [  100/ 2000]\n",
      "loss: 1.471407  [  150/ 2000]\n",
      "loss: 1.442329  [  200/ 2000]\n",
      "loss: 1.413884  [  250/ 2000]\n",
      "loss: 1.386063  [  300/ 2000]\n",
      "loss: 1.358861  [  350/ 2000]\n",
      "loss: 1.332269  [  400/ 2000]\n",
      "loss: 1.306279  [  450/ 2000]\n",
      "loss: 1.280885  [  500/ 2000]\n",
      "loss: 1.256076  [  550/ 2000]\n",
      "loss: 1.231846  [  600/ 2000]\n",
      "loss: 1.208185  [  650/ 2000]\n",
      "loss: 1.185082  [  700/ 2000]\n",
      "loss: 1.162528  [  750/ 2000]\n",
      "loss: 1.140512  [  800/ 2000]\n",
      "loss: 1.119023  [  850/ 2000]\n",
      "loss: 1.098047  [  900/ 2000]\n",
      "loss: 1.077573  [  950/ 2000]\n",
      "loss: 1.057587  [ 1000/ 2000]\n",
      "loss: 1.038075  [ 1050/ 2000]\n",
      "loss: 1.019023  [ 1100/ 2000]\n",
      "loss: 1.000415  [ 1150/ 2000]\n",
      "loss: 0.982235  [ 1200/ 2000]\n",
      "loss: 0.964465  [ 1250/ 2000]\n",
      "loss: 0.947087  [ 1300/ 2000]\n",
      "loss: 0.930081  [ 1350/ 2000]\n",
      "loss: 0.913427  [ 1400/ 2000]\n",
      "loss: 0.897100  [ 1450/ 2000]\n",
      "loss: 0.881072  [ 1500/ 2000]\n",
      "loss: 0.865310  [ 1550/ 2000]\n",
      "loss: 0.849777  [ 1600/ 2000]\n",
      "loss: 0.834439  [ 1650/ 2000]\n",
      "loss: 0.819254  [ 1700/ 2000]\n",
      "loss: 0.804170  [ 1750/ 2000]\n",
      "loss: 0.789122  [ 1800/ 2000]\n",
      "loss: 0.774031  [ 1850/ 2000]\n",
      "loss: 0.758798  [ 1900/ 2000]\n",
      "loss: 0.743298  [ 1950/ 2000]\n",
      "CPU times: user 24min, sys: 1.31 s, total: 24min 1s\n",
      "Wall time: 23min 57s\n"
     ]
    },
    {
     "data": {
      "image/png": "[encoded data removed]",
      "text/plain": [
       "<Figure size 432x288 with 1 Axes>"
      ]
     },
     "metadata": {
      "needs_background": "light"
     },
     "output_type": "display_data"
    }
   ],
   "source": [
    "%%time\n",
    "preds2_cal = overfit_one_batch(X / 255.0, y, 2000)"
   ]
  },
  {
   "cell_type": "code",
   "execution_count": null,
   "metadata": {
    "colab": {
     "base_uri": "https://localhost:8080/",
     "height": 1000
    },
    "executionInfo": {
     "elapsed": 1452818,
     "status": "ok",
     "timestamp": 1674189856987,
     "user": {
      "displayName": "David Felipe Mora Ramirez",
      "userId": "10641558471272987746"
     },
     "user_tz": 300
    },
    "id": "2JU0qOPCT4BE",
    "outputId": "95bfcd7f-4806-4d9a-f99b-d97566d609b4"
   },
   "outputs": [
    {
     "name": "stdout",
     "output_type": "stream",
     "text": [
      "loss: 1.563093  [    0/ 2000]\n",
      "loss: 1.531806  [   50/ 2000]\n",
      "loss: 1.501204  [  100/ 2000]\n",
      "loss: 1.471267  [  150/ 2000]\n",
      "loss: 1.441976  [  200/ 2000]\n",
      "loss: 1.413314  [  250/ 2000]\n",
      "loss: 1.385264  [  300/ 2000]\n",
      "loss: 1.357810  [  350/ 2000]\n",
      "loss: 1.330934  [  400/ 2000]\n",
      "loss: 1.304616  [  450/ 2000]\n",
      "loss: 1.278837  [  500/ 2000]\n",
      "loss: 1.253572  [  550/ 2000]\n",
      "loss: 1.228794  [  600/ 2000]\n",
      "loss: 1.204473  [  650/ 2000]\n",
      "loss: 1.180569  [  700/ 2000]\n",
      "loss: 1.157039  [  750/ 2000]\n",
      "loss: 1.133827  [  800/ 2000]\n",
      "loss: 1.110862  [  850/ 2000]\n",
      "loss: 1.088056  [  900/ 2000]\n",
      "loss: 1.065290  [  950/ 2000]\n",
      "loss: 1.042405  [ 1000/ 2000]\n",
      "loss: 1.019183  [ 1050/ 2000]\n",
      "loss: 0.995321  [ 1100/ 2000]\n",
      "loss: 0.970385  [ 1150/ 2000]\n",
      "loss: 0.943729  [ 1200/ 2000]\n",
      "loss: 0.914394  [ 1250/ 2000]\n",
      "loss: 0.880907  [ 1300/ 2000]\n",
      "loss: 0.841030  [ 1350/ 2000]\n",
      "loss: 0.791594  [ 1400/ 2000]\n",
      "loss: 0.728887  [ 1450/ 2000]\n",
      "loss: 0.651322  [ 1500/ 2000]\n",
      "loss: 0.565218  [ 1550/ 2000]\n",
      "loss: 0.486674  [ 1600/ 2000]\n",
      "loss: 0.429544  [ 1650/ 2000]\n",
      "loss: 0.394343  [ 1700/ 2000]\n",
      "loss: 0.373843  [ 1750/ 2000]\n",
      "loss: 0.361350  [ 1800/ 2000]\n",
      "loss: 0.352849  [ 1850/ 2000]\n",
      "loss: 0.346286  [ 1900/ 2000]\n",
      "loss: 0.340677  [ 1950/ 2000]\n",
      "CPU times: user 24min 11s, sys: 1.08 s, total: 24min 12s\n",
      "Wall time: 24min 10s\n"
     ]
    },
    {
     "data": {
      "image/png": "[encoded data removed]",
      "text/plain": [
       "<Figure size 432x288 with 1 Axes>"
      ]
     },
     "metadata": {
      "needs_background": "light"
     },
     "output_type": "display_data"
    }
   ],
   "source": [
    "%%time\n",
    "preds3_cal = overfit_one_batch(X_norm, y, 2000)"
   ]
  },
  {
   "cell_type": "markdown",
   "metadata": {
    "id": "tCavFE54aaQD"
   },
   "source": [
    "Se observa que al efectuar ese cambio la pérdida empieza en un punto mucho más bajo sin embargo convergen mucho más lentamente por lo tanto voy a probar aumentar la tasa de aprendizaje "
   ]
  },
  {
   "cell_type": "code",
   "execution_count": null,
   "metadata": {
    "colab": {
     "base_uri": "https://localhost:8080/",
     "height": 1000
    },
    "executionInfo": {
     "elapsed": 1442686,
     "status": "ok",
     "timestamp": 1674191323449,
     "user": {
      "displayName": "David Felipe Mora Ramirez",
      "userId": "10641558471272987746"
     },
     "user_tz": 300
    },
    "id": "lc0EZ5NDZ9YC",
    "outputId": "210cf197-9a62-43f0-f5db-0c4b2c98ce68"
   },
   "outputs": [
    {
     "name": "stdout",
     "output_type": "stream",
     "text": [
      "loss: 1.562508  [    0/ 2000]\n",
      "loss: 1.280648  [   50/ 2000]\n",
      "loss: 1.057243  [  100/ 2000]\n",
      "loss: 0.880854  [  150/ 2000]\n",
      "loss: 0.728473  [  200/ 2000]\n",
      "loss: 0.490946  [  250/ 2000]\n",
      "loss: 0.308066  [  300/ 2000]\n",
      "loss: 0.285484  [  350/ 2000]\n",
      "loss: 0.267057  [  400/ 2000]\n",
      "loss: 0.253993  [  450/ 2000]\n",
      "loss: 0.247504  [  500/ 2000]\n",
      "loss: 0.244916  [  550/ 2000]\n",
      "loss: 0.243857  [  600/ 2000]\n",
      "loss: 0.243370  [  650/ 2000]\n",
      "loss: 0.243110  [  700/ 2000]\n",
      "loss: 0.242948  [  750/ 2000]\n",
      "loss: 0.242830  [  800/ 2000]\n",
      "loss: 0.242734  [  850/ 2000]\n",
      "loss: 0.242650  [  900/ 2000]\n",
      "loss: 0.242573  [  950/ 2000]\n",
      "loss: 0.242499  [ 1000/ 2000]\n",
      "loss: 0.242429  [ 1050/ 2000]\n",
      "loss: 0.242362  [ 1100/ 2000]\n",
      "loss: 0.242297  [ 1150/ 2000]\n",
      "loss: 0.242234  [ 1200/ 2000]\n",
      "loss: 0.242173  [ 1250/ 2000]\n",
      "loss: 0.242113  [ 1300/ 2000]\n",
      "loss: 0.242055  [ 1350/ 2000]\n",
      "loss: 0.241999  [ 1400/ 2000]\n",
      "loss: 0.241945  [ 1450/ 2000]\n",
      "loss: 0.241892  [ 1500/ 2000]\n",
      "loss: 0.241840  [ 1550/ 2000]\n",
      "loss: 0.241790  [ 1600/ 2000]\n",
      "loss: 0.241741  [ 1650/ 2000]\n",
      "loss: 0.241693  [ 1700/ 2000]\n",
      "loss: 0.241647  [ 1750/ 2000]\n",
      "loss: 0.241601  [ 1800/ 2000]\n",
      "loss: 0.241557  [ 1850/ 2000]\n",
      "loss: 0.241514  [ 1900/ 2000]\n",
      "loss: 0.241472  [ 1950/ 2000]\n",
      "CPU times: user 24min 1s, sys: 1.22 s, total: 24min 2s\n",
      "Wall time: 24min\n"
     ]
    },
    {
     "data": {
      "image/png": "[encoded data removed]",
      "text/plain": [
       "<Figure size 432x288 with 1 Axes>"
      ]
     },
     "metadata": {
      "needs_background": "light"
     },
     "output_type": "display_data"
    }
   ],
   "source": [
    "%%time\n",
    "preds2_cal_new_lr = overfit_one_batch(X / 255.0, y, 2000, lr=0.01)"
   ]
  },
  {
   "cell_type": "code",
   "execution_count": null,
   "metadata": {
    "id": "yefVRkWkjRSV"
   },
   "outputs": [],
   "source": [
    "make_predictions(preds2_cal_new_lr)"
   ]
  },
  {
   "cell_type": "code",
   "execution_count": null,
   "metadata": {
    "colab": {
     "base_uri": "https://localhost:8080/"
    },
    "id": "LsLVHN3hfjzH",
    "outputId": "01b12481-4e2c-4a8d-8eab-9fe7be201ee0"
   },
   "outputs": [
    {
     "name": "stdout",
     "output_type": "stream",
     "text": [
      "loss: 1.563093  [    0/ 2000]\n",
      "loss: 1.278634  [   50/ 2000]\n",
      "loss: 1.042686  [  100/ 2000]\n",
      "loss: 0.675839  [  150/ 2000]\n",
      "loss: 0.337282  [  200/ 2000]\n",
      "loss: 0.294954  [  250/ 2000]\n",
      "loss: 0.269548  [  300/ 2000]\n",
      "loss: 0.260172  [  350/ 2000]\n",
      "loss: 0.256681  [  400/ 2000]\n",
      "loss: 0.254997  [  450/ 2000]\n",
      "loss: 0.253968  [  500/ 2000]\n",
      "loss: 0.253217  [  550/ 2000]\n",
      "loss: 0.252604  [  600/ 2000]\n",
      "loss: 0.252067  [  650/ 2000]\n",
      "loss: 0.251578  [  700/ 2000]\n",
      "loss: 0.251122  [  750/ 2000]\n",
      "loss: 0.250691  [  800/ 2000]\n",
      "loss: 0.250280  [  850/ 2000]\n",
      "loss: 0.249887  [  900/ 2000]\n",
      "loss: 0.249508  [  950/ 2000]\n",
      "loss: 0.249142  [ 1000/ 2000]\n",
      "loss: 0.248788  [ 1050/ 2000]\n",
      "loss: 0.248445  [ 1100/ 2000]\n",
      "loss: 0.248111  [ 1150/ 2000]\n",
      "loss: 0.247785  [ 1200/ 2000]\n",
      "loss: 0.247468  [ 1250/ 2000]\n",
      "loss: 0.247157  [ 1300/ 2000]\n",
      "loss: 0.246854  [ 1350/ 2000]\n",
      "loss: 0.246556  [ 1400/ 2000]\n",
      "loss: 0.246264  [ 1450/ 2000]\n",
      "loss: 0.245977  [ 1500/ 2000]\n",
      "loss: 0.245694  [ 1550/ 2000]\n"
     ]
    }
   ],
   "source": [
    "%%time\n",
    "preds3_cal_new_lr = overfit_one_batch(X_norm, y, 2000, lr=0.01)"
   ]
  },
  {
   "cell_type": "code",
   "execution_count": null,
   "metadata": {
    "id": "F0HV4S76jaQS"
   },
   "outputs": [],
   "source": [
    "make_predictions(preds3_cal_new_lr)"
   ]
  },
  {
   "cell_type": "markdown",
   "metadata": {
    "id": "tcSTWKYsYxrX"
   },
   "source": [
    "**Observaciones**:\n",
    "\n",
    "- Después de un punto en el cual se toma a la clase dominante como la predicción dominante es difícil mejorar las predicciones y reducir la pérdida significativamente. Creo que una forma de contrarrestar este fenómeno es a través de reducir el contexto de las imágenes. Sin embargo creo que debo investigar más a fondo acerca de técnicas para tratar el imbalance de clases en imágenes. \n"
   ]
  }
 ],
 "metadata": {
  "accelerator": "GPU",
  "colab": {
   "collapsed_sections": [
    "Jv6RohNbPOzy"
   ],
   "provenance": []
  },
  "gpuClass": "standard",
  "kernelspec": {
   "display_name": "kaggle-kernel",
   "language": "python",
   "name": "kaggle-kernel"
  },
  "language_info": {
   "codemirror_mode": {
    "name": "ipython",
    "version": 3
   },
   "file_extension": ".py",
   "mimetype": "text/x-python",
   "name": "python",
   "nbconvert_exporter": "python",
   "pygments_lexer": "ipython3",
   "version": "3.9.15"
  }
 },
 "nbformat": 4,
 "nbformat_minor": 4
}
