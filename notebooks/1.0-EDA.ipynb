{
 "cells": [
  {
   "attachments": {},
   "cell_type": "markdown",
   "metadata": {
    "id": "OkKkRskdlzj1"
   },
   "source": [
    "## **Exploratory Data Analysis**"
   ]
  },
  {
   "cell_type": "code",
   "execution_count": 12,
   "metadata": {
    "id": "g_sQVkAHp6WD"
   },
   "outputs": [],
   "source": [
    "import torch\n",
    "import torch.nn.functional as F\n",
    "from torchvision.io import read_image\n",
    "import torch.nn.functional as F\n",
    "\n",
    "import pandas as pd\n",
    "import matplotlib.pyplot as plt\n",
    "from pathlib import Path\n",
    "import os\n",
    "\n",
    "from tqdm import tqdm\n",
    "\n",
    "%matplotlib inline\n",
    "\n",
    "raw_data_dir = Path(\"../data/raw/\")\n",
    "inter_data_dir = Path(\"../data/interm/\")\n",
    "train_dir = raw_data_dir / \"train\"\n",
    "test_dir = raw_data_dir / \"test\"\n",
    "valid_dir = raw_data_dir / \"valid\"\n",
    "\n",
    "classes = pd.read_csv(raw_data_dir / \"class_dict.csv\")\n",
    "metadata = pd.read_csv(raw_data_dir / \"metadata.csv\")\n",
    "transformed_masks_path = inter_data_dir / \"train_masks\"\n",
    "image_ids = metadata[metadata[\"split\"] == \"train\"][\"image_id\"].values\n",
    "\n",
    "\n",
    "# mapping from class indices to RGB\n",
    "class_to_rgb = {}\n",
    "for idx, row in classes.iterrows():\n",
    "    class_to_rgb[row[0]] = row[1:].to_list()\n",
    "class_colors = [tuple(x) for x in class_to_rgb.values()]\n",
    "num_classes = len(class_colors)"
   ]
  },
  {
   "cell_type": "markdown",
   "metadata": {
    "id": "joC2-z18DAoP"
   },
   "source": [
    "### Some EDA"
   ]
  },
  {
   "cell_type": "markdown",
   "metadata": {
    "id": "aVm7b4ehXrEG"
   },
   "source": [
    "There data cosists of 3 dirs(train, test, valid) along with a .csv with the classes and another with the annotations."
   ]
  },
  {
   "cell_type": "code",
   "execution_count": 2,
   "metadata": {
    "colab": {
     "base_uri": "https://localhost:8080/"
    },
    "executionInfo": {
     "elapsed": 222,
     "status": "ok",
     "timestamp": 1674001737304,
     "user": {
      "displayName": "David Felipe Mora Ramirez",
      "userId": "10641558471272987746"
     },
     "user_tz": 300
    },
    "id": "4tfENqjsDPh5",
    "outputId": "aa446f83-4289-40bc-8287-fa89def17fe5"
   },
   "outputs": [
    {
     "name": "stdout",
     "output_type": "stream",
     "text": [
      "Number of files in the train dir: 1606\n",
      "Number of files in the test dir : 172\n",
      "Number of files in the valid dir: 171\n"
     ]
    }
   ],
   "source": [
    "# number of files\n",
    "print(f\"Number of files in the train dir: {len(os.listdir(train_dir))}\")\n",
    "print(f\"Number of files in the test dir : {len(os.listdir(test_dir))}\")\n",
    "print(f\"Number of files in the valid dir: {len(os.listdir(valid_dir))}\")"
   ]
  },
  {
   "cell_type": "markdown",
   "metadata": {
    "id": "HQI_nzD7D6kf"
   },
   "source": [
    "The satellite images are in `.jpg` format while the mask in `.png`"
   ]
  },
  {
   "cell_type": "code",
   "execution_count": 3,
   "metadata": {
    "colab": {
     "base_uri": "https://localhost:8080/"
    },
    "executionInfo": {
     "elapsed": 8,
     "status": "ok",
     "timestamp": 1674001738245,
     "user": {
      "displayName": "David Felipe Mora Ramirez",
      "userId": "10641558471272987746"
     },
     "user_tz": 300
    },
    "id": "3CRleDe7DwFT",
    "outputId": "ca8148a5-705d-4410-8bbc-de623af711a6"
   },
   "outputs": [
    {
     "data": {
      "text/plain": [
       "['350033_mask.png',\n",
       " '443271_sat.jpg',\n",
       " '442329_mask.png',\n",
       " '627806_mask.png',\n",
       " '956410_sat.jpg',\n",
       " '148381_sat.jpg',\n",
       " '495406_mask.png',\n",
       " '652183_sat.jpg',\n",
       " '759855_mask.png',\n",
       " '162310_sat.jpg']"
      ]
     },
     "metadata": {},
     "output_type": "display_data"
    }
   ],
   "source": [
    "# there are png and jpg files\n",
    "display(os.listdir(train_dir)[:10])"
   ]
  },
  {
   "cell_type": "markdown",
   "metadata": {
    "id": "WOaTX7zDEoXX"
   },
   "source": [
    "The test and valid directories don't contain masks:"
   ]
  },
  {
   "cell_type": "code",
   "execution_count": 4,
   "metadata": {
    "colab": {
     "base_uri": "https://localhost:8080/"
    },
    "executionInfo": {
     "elapsed": 5,
     "status": "ok",
     "timestamp": 1674001739253,
     "user": {
      "displayName": "David Felipe Mora Ramirez",
      "userId": "10641558471272987746"
     },
     "user_tz": 300
    },
    "id": "9iYxrfkCBC-v",
    "outputId": "516ec102-7c90-40e8-ce07-0c3152dfeeb2"
   },
   "outputs": [
    {
     "name": "stdout",
     "output_type": "stream",
     "text": [
      "Files with 'jpg' extension in ../data/raw/train dir: 803\n",
      "Files with 'png' extension in ../data/raw/train dir: 803\n",
      "Files with 'jpg' extension in ../data/raw/test dir: 172\n",
      "Files with 'png' extension in ../data/raw/test dir: 0\n",
      "Files with 'jpg' extension in ../data/raw/valid dir: 171\n",
      "Files with 'png' extension in ../data/raw/valid dir: 0\n"
     ]
    }
   ],
   "source": [
    "def list_ext(dir_path, ext):\n",
    "    n_files = len([name for name in os.listdir(dir_path) if name.endswith(ext)])\n",
    "    print(f\"Files with '{ext}' extension in {dir_path} dir: {n_files}\")\n",
    "\n",
    "\n",
    "list_ext(train_dir, \"jpg\")\n",
    "list_ext(train_dir, \"png\")\n",
    "list_ext(test_dir, \"jpg\")\n",
    "list_ext(test_dir, \"png\")\n",
    "list_ext(valid_dir, \"jpg\")\n",
    "list_ext(valid_dir, \"png\")"
   ]
  },
  {
   "cell_type": "markdown",
   "metadata": {
    "id": "UMAdP4TrODDk"
   },
   "source": [
    "The `annotations` file contains the annotations of the images, including the sattelite and mask paths and the splits"
   ]
  },
  {
   "cell_type": "code",
   "execution_count": 5,
   "metadata": {
    "colab": {
     "base_uri": "https://localhost:8080/",
     "height": 424
    },
    "executionInfo": {
     "elapsed": 14,
     "status": "ok",
     "timestamp": 1674001739824,
     "user": {
      "displayName": "David Felipe Mora Ramirez",
      "userId": "10641558471272987746"
     },
     "user_tz": 300
    },
    "id": "xCbBmW9LFX7O",
    "outputId": "4ebd97b0-90a4-46cd-a915-6ceb617f64d7"
   },
   "outputs": [
    {
     "data": {
      "text/html": [
       "<div>\n",
       "<style scoped>\n",
       "    .dataframe tbody tr th:only-of-type {\n",
       "        vertical-align: middle;\n",
       "    }\n",
       "\n",
       "    .dataframe tbody tr th {\n",
       "        vertical-align: top;\n",
       "    }\n",
       "\n",
       "    .dataframe thead th {\n",
       "        text-align: right;\n",
       "    }\n",
       "</style>\n",
       "<table border=\"1\" class=\"dataframe\">\n",
       "  <thead>\n",
       "    <tr style=\"text-align: right;\">\n",
       "      <th></th>\n",
       "      <th>image_id</th>\n",
       "      <th>split</th>\n",
       "      <th>sat_image_path</th>\n",
       "      <th>mask_path</th>\n",
       "    </tr>\n",
       "  </thead>\n",
       "  <tbody>\n",
       "    <tr>\n",
       "      <th>0</th>\n",
       "      <td>100694</td>\n",
       "      <td>train</td>\n",
       "      <td>train/100694_sat.jpg</td>\n",
       "      <td>train/100694_mask.png</td>\n",
       "    </tr>\n",
       "    <tr>\n",
       "      <th>1</th>\n",
       "      <td>102122</td>\n",
       "      <td>train</td>\n",
       "      <td>train/102122_sat.jpg</td>\n",
       "      <td>train/102122_mask.png</td>\n",
       "    </tr>\n",
       "    <tr>\n",
       "      <th>2</th>\n",
       "      <td>10233</td>\n",
       "      <td>train</td>\n",
       "      <td>train/10233_sat.jpg</td>\n",
       "      <td>train/10233_mask.png</td>\n",
       "    </tr>\n",
       "    <tr>\n",
       "      <th>3</th>\n",
       "      <td>103665</td>\n",
       "      <td>train</td>\n",
       "      <td>train/103665_sat.jpg</td>\n",
       "      <td>train/103665_mask.png</td>\n",
       "    </tr>\n",
       "    <tr>\n",
       "      <th>4</th>\n",
       "      <td>103730</td>\n",
       "      <td>train</td>\n",
       "      <td>train/103730_sat.jpg</td>\n",
       "      <td>train/103730_mask.png</td>\n",
       "    </tr>\n",
       "    <tr>\n",
       "      <th>...</th>\n",
       "      <td>...</td>\n",
       "      <td>...</td>\n",
       "      <td>...</td>\n",
       "      <td>...</td>\n",
       "    </tr>\n",
       "    <tr>\n",
       "      <th>1141</th>\n",
       "      <td>979233</td>\n",
       "      <td>test</td>\n",
       "      <td>test/979233_sat.jpg</td>\n",
       "      <td>NaN</td>\n",
       "    </tr>\n",
       "    <tr>\n",
       "      <th>1142</th>\n",
       "      <td>983689</td>\n",
       "      <td>test</td>\n",
       "      <td>test/983689_sat.jpg</td>\n",
       "      <td>NaN</td>\n",
       "    </tr>\n",
       "    <tr>\n",
       "      <th>1143</th>\n",
       "      <td>988205</td>\n",
       "      <td>test</td>\n",
       "      <td>test/988205_sat.jpg</td>\n",
       "      <td>NaN</td>\n",
       "    </tr>\n",
       "    <tr>\n",
       "      <th>1144</th>\n",
       "      <td>989953</td>\n",
       "      <td>test</td>\n",
       "      <td>test/989953_sat.jpg</td>\n",
       "      <td>NaN</td>\n",
       "    </tr>\n",
       "    <tr>\n",
       "      <th>1145</th>\n",
       "      <td>999380</td>\n",
       "      <td>test</td>\n",
       "      <td>test/999380_sat.jpg</td>\n",
       "      <td>NaN</td>\n",
       "    </tr>\n",
       "  </tbody>\n",
       "</table>\n",
       "<p>1146 rows × 4 columns</p>\n",
       "</div>"
      ],
      "text/plain": [
       "      image_id  split        sat_image_path              mask_path\n",
       "0       100694  train  train/100694_sat.jpg  train/100694_mask.png\n",
       "1       102122  train  train/102122_sat.jpg  train/102122_mask.png\n",
       "2        10233  train   train/10233_sat.jpg   train/10233_mask.png\n",
       "3       103665  train  train/103665_sat.jpg  train/103665_mask.png\n",
       "4       103730  train  train/103730_sat.jpg  train/103730_mask.png\n",
       "...        ...    ...                   ...                    ...\n",
       "1141    979233   test   test/979233_sat.jpg                    NaN\n",
       "1142    983689   test   test/983689_sat.jpg                    NaN\n",
       "1143    988205   test   test/988205_sat.jpg                    NaN\n",
       "1144    989953   test   test/989953_sat.jpg                    NaN\n",
       "1145    999380   test   test/999380_sat.jpg                    NaN\n",
       "\n",
       "[1146 rows x 4 columns]"
      ]
     },
     "execution_count": 5,
     "metadata": {},
     "output_type": "execute_result"
    }
   ],
   "source": [
    "metadata"
   ]
  },
  {
   "cell_type": "markdown",
   "metadata": {
    "id": "L1JF3vQEOPZU"
   },
   "source": [
    "The `classes` file contains the mappings between the land types and the pixel colors"
   ]
  },
  {
   "cell_type": "code",
   "execution_count": 6,
   "metadata": {
    "colab": {
     "base_uri": "https://localhost:8080/",
     "height": 269
    },
    "executionInfo": {
     "elapsed": 20,
     "status": "ok",
     "timestamp": 1674001740521,
     "user": {
      "displayName": "David Felipe Mora Ramirez",
      "userId": "10641558471272987746"
     },
     "user_tz": 300
    },
    "id": "SRFF0LkhFRHR",
    "outputId": "86c91c3d-deb4-4c18-d396-c2ae4b87de39"
   },
   "outputs": [
    {
     "data": {
      "text/html": [
       "<div>\n",
       "<style scoped>\n",
       "    .dataframe tbody tr th:only-of-type {\n",
       "        vertical-align: middle;\n",
       "    }\n",
       "\n",
       "    .dataframe tbody tr th {\n",
       "        vertical-align: top;\n",
       "    }\n",
       "\n",
       "    .dataframe thead th {\n",
       "        text-align: right;\n",
       "    }\n",
       "</style>\n",
       "<table border=\"1\" class=\"dataframe\">\n",
       "  <thead>\n",
       "    <tr style=\"text-align: right;\">\n",
       "      <th></th>\n",
       "      <th>name</th>\n",
       "      <th>r</th>\n",
       "      <th>g</th>\n",
       "      <th>b</th>\n",
       "    </tr>\n",
       "  </thead>\n",
       "  <tbody>\n",
       "    <tr>\n",
       "      <th>0</th>\n",
       "      <td>urban_land</td>\n",
       "      <td>0</td>\n",
       "      <td>255</td>\n",
       "      <td>255</td>\n",
       "    </tr>\n",
       "    <tr>\n",
       "      <th>1</th>\n",
       "      <td>agriculture_land</td>\n",
       "      <td>255</td>\n",
       "      <td>255</td>\n",
       "      <td>0</td>\n",
       "    </tr>\n",
       "    <tr>\n",
       "      <th>2</th>\n",
       "      <td>rangeland</td>\n",
       "      <td>255</td>\n",
       "      <td>0</td>\n",
       "      <td>255</td>\n",
       "    </tr>\n",
       "    <tr>\n",
       "      <th>3</th>\n",
       "      <td>forest_land</td>\n",
       "      <td>0</td>\n",
       "      <td>255</td>\n",
       "      <td>0</td>\n",
       "    </tr>\n",
       "    <tr>\n",
       "      <th>4</th>\n",
       "      <td>water</td>\n",
       "      <td>0</td>\n",
       "      <td>0</td>\n",
       "      <td>255</td>\n",
       "    </tr>\n",
       "    <tr>\n",
       "      <th>5</th>\n",
       "      <td>barren_land</td>\n",
       "      <td>255</td>\n",
       "      <td>255</td>\n",
       "      <td>255</td>\n",
       "    </tr>\n",
       "    <tr>\n",
       "      <th>6</th>\n",
       "      <td>unknown</td>\n",
       "      <td>0</td>\n",
       "      <td>0</td>\n",
       "      <td>0</td>\n",
       "    </tr>\n",
       "  </tbody>\n",
       "</table>\n",
       "</div>"
      ],
      "text/plain": [
       "               name    r    g    b\n",
       "0        urban_land    0  255  255\n",
       "1  agriculture_land  255  255    0\n",
       "2         rangeland  255    0  255\n",
       "3       forest_land    0  255    0\n",
       "4             water    0    0  255\n",
       "5       barren_land  255  255  255\n",
       "6           unknown    0    0    0"
      ]
     },
     "execution_count": 6,
     "metadata": {},
     "output_type": "execute_result"
    }
   ],
   "source": [
    "classes"
   ]
  },
  {
   "cell_type": "code",
   "execution_count": 7,
   "metadata": {
    "colab": {
     "base_uri": "https://localhost:8080/"
    },
    "executionInfo": {
     "elapsed": 18,
     "status": "ok",
     "timestamp": 1674001740523,
     "user": {
      "displayName": "David Felipe Mora Ramirez",
      "userId": "10641558471272987746"
     },
     "user_tz": 300
    },
    "id": "Cg_NWKSffEIS",
    "outputId": "c109b846-fd08-49ae-b470-99f79cbab8f2"
   },
   "outputs": [
    {
     "data": {
      "text/plain": [
       "[(0, 255, 255),\n",
       " (255, 255, 0),\n",
       " (255, 0, 255),\n",
       " (0, 255, 0),\n",
       " (0, 0, 255),\n",
       " (255, 255, 255),\n",
       " (0, 0, 0)]"
      ]
     },
     "execution_count": 7,
     "metadata": {},
     "output_type": "execute_result"
    }
   ],
   "source": [
    "# map classes to RGB values\n",
    "class_to_rgb = {}\n",
    "for idx, row in classes.iterrows():\n",
    "    class_to_rgb[row[0]] = row[1:].to_list()\n",
    "class_colors = [tuple(x) for x in class_to_rgb.values()]\n",
    "class_colors"
   ]
  },
  {
   "attachments": {},
   "cell_type": "markdown",
   "metadata": {},
   "source": [
    "The colors of each class are:\n",
    "\n",
    "```\n",
    "{'urban_land': 'cyan',\n",
    " 'agriculture_land': 'yellow',\n",
    " 'rangeland': 'magenta',\n",
    " 'forest_land': 'lime',\n",
    " 'water': 'blue',\n",
    " 'barren_land': 'white',\n",
    " 'unknown': 'black'}\n",
    "```"
   ]
  },
  {
   "cell_type": "code",
   "execution_count": 8,
   "metadata": {
    "colab": {
     "base_uri": "https://localhost:8080/"
    },
    "executionInfo": {
     "elapsed": 18,
     "status": "ok",
     "timestamp": 1674001741082,
     "user": {
      "displayName": "David Felipe Mora Ramirez",
      "userId": "10641558471272987746"
     },
     "user_tz": 300
    },
    "id": "4DbcA8pCH3Rp",
    "outputId": "62cd9c0a-830b-4813-9d92-123d075ebfe2"
   },
   "outputs": [
    {
     "name": "stdout",
     "output_type": "stream",
     "text": [
      "satellite image dimensions: torch.Size([3, 2448, 2448])\n",
      "mask image dimensions: torch.Size([3, 2448, 2448])\n"
     ]
    }
   ],
   "source": [
    "# dimmensions of the images\n",
    "sat_img = read_image(str(train_dir / f\"{image_ids[0]}_sat.jpg\"))\n",
    "mask = read_image(str(train_dir / f\"{image_ids[0]}_mask.png\"))\n",
    "print(f\"satellite image dimensions: {sat_img.shape}\")\n",
    "print(f\"mask image dimensions: {mask.shape}\")"
   ]
  },
  {
   "attachments": {},
   "cell_type": "markdown",
   "metadata": {
    "id": "luQNFBJgxzNW"
   },
   "source": [
    "The pixels of the segmentation mask are represented in RGB colors, this is not ideal so we will transform it into values between 0 and 7 (number of classes). This functions will be saved in the utils script."
   ]
  },
  {
   "cell_type": "code",
   "execution_count": 9,
   "metadata": {
    "id": "R7hbpMt5yUuR"
   },
   "outputs": [],
   "source": [
    "def rgb_to_label(mask, class_colors):\n",
    "    \"\"\"\n",
    "    Transforms a mask image from RGB format to label encoding.\n",
    "        Parameters:\n",
    "            mask: Torch tensor of shape (3, H, W)\n",
    "            class_colors: list of tuples of the RGB values for each class\n",
    "        Returns:\n",
    "            Torch tensor of shape (H, W) of label enconded classes\n",
    "    \"\"\"\n",
    "    h, w = mask.shape[1:]  # shape expected to be (C, H, W)\n",
    "    semantic_map = torch.zeros((h, w), dtype=torch.uint8)\n",
    "    for idx, color in enumerate(class_colors):\n",
    "        color = torch.tensor(color).view(3, 1, 1)  # rgb value\n",
    "        class_map = torch.all(torch.eq(mask, color), 0)\n",
    "        semantic_map[class_map] = idx\n",
    "    return semantic_map\n",
    "\n",
    "\n",
    "def label_to_onehot(mask, num_classes):\n",
    "    \"\"\"\n",
    "    Transforms a label encoded tensor to one hot encoding.\n",
    "        Parameters:\n",
    "            mask: Torch tensor of shape (H, W)\n",
    "            num_classes: Total number of classes:\n",
    "        Returns:\n",
    "            Torch tensor of shape (num_classes, H, W).\n",
    "    \"\"\"\n",
    "    dims_p = (2, 0, 1) if mask.ndim == 2 else (0, 3, 1, 2)\n",
    "    return torch.permute(\n",
    "        F.one_hot(mask.type(torch.long), num_classes=num_classes).type(torch.bool),\n",
    "        dims_p,\n",
    "    )"
   ]
  },
  {
   "cell_type": "code",
   "execution_count": 10,
   "metadata": {},
   "outputs": [
    {
     "name": "stderr",
     "output_type": "stream",
     "text": [
      "100%|██████████| 803/803 [05:14<00:00,  2.55it/s]\n"
     ]
    },
    {
     "data": {
      "text/plain": [
       "{0, 255}"
      ]
     },
     "execution_count": 10,
     "metadata": {},
     "output_type": "execute_result"
    }
   ],
   "source": [
    "# unique values from the images\n",
    "unique_values = set()\n",
    "for image_id in tqdm(image_ids):\n",
    "    mask = read_image(str(train_dir / f\"{image_id}_mask.png\"))\n",
    "    unique_values.update(mask.unique().tolist())\n",
    "unique_values"
   ]
  },
  {
   "cell_type": "code",
   "execution_count": 16,
   "metadata": {
    "id": "_4uXZzBEAIsX"
   },
   "outputs": [
    {
     "name": "stderr",
     "output_type": "stream",
     "text": [
      "100%|██████████| 803/803 [00:27<00:00, 29.60it/s]\n"
     ]
    }
   ],
   "source": [
    "# let's try to count the number of pixels of each class\n",
    "counts = torch.zeros((7,))\n",
    "for image_id in tqdm(image_ids):\n",
    "    mask = read_image(str(transformed_masks_path / f\"{image_id}_mask.png\"))\n",
    "    counts += torch.bincount(mask.view(-1), minlength=7)"
   ]
  },
  {
   "cell_type": "code",
   "execution_count": 17,
   "metadata": {
    "colab": {
     "base_uri": "https://localhost:8080/"
    },
    "executionInfo": {
     "elapsed": 260,
     "status": "ok",
     "timestamp": 1674005907676,
     "user": {
      "displayName": "David Felipe Mora Ramirez",
      "userId": "10641558471272987746"
     },
     "user_tz": 300
    },
    "id": "0HdgbOLHhtgq",
    "jupyter": {
     "source_hidden": true
    },
    "outputId": "5f3ee58f-d221-48e3-cb58-ea0fc52559d5",
    "tags": []
   },
   "outputs": [
    {
     "data": {
      "image/png": "[encoded data removed]",
      "text/plain": [
       "<Figure size 1000x300 with 1 Axes>"
      ]
     },
     "metadata": {},
     "output_type": "display_data"
    }
   ],
   "source": [
    "plt.figure(figsize=(10, 3))\n",
    "plt.bar(class_to_rgb.keys(), counts)\n",
    "plt.title(\"Total pixels per class in the dataset\")\n",
    "plt.show()"
   ]
  },
  {
   "cell_type": "code",
   "execution_count": 18,
   "metadata": {
    "colab": {
     "base_uri": "https://localhost:8080/",
     "height": 337
    },
    "executionInfo": {
     "elapsed": 430,
     "status": "ok",
     "timestamp": 1674002097323,
     "user": {
      "displayName": "David Felipe Mora Ramirez",
      "userId": "10641558471272987746"
     },
     "user_tz": 300
    },
    "id": "ueop0xlECCDs",
    "outputId": "464ec4c7-618d-4e8f-da4f-87fcb1538864"
   },
   "outputs": [
    {
     "data": {
      "image/png": "[encoded data removed]",
      "text/plain": [
       "<Figure size 1000x300 with 1 Axes>"
      ]
     },
     "metadata": {},
     "output_type": "display_data"
    }
   ],
   "source": [
    "plt.figure(figsize=(10, 3))\n",
    "plt.bar(class_to_rgb.keys(), counts / counts.sum() * 100)\n",
    "plt.title(\"Percentage of pixels per class in the dataset\")\n",
    "plt.show()"
   ]
  }
 ],
 "metadata": {
  "colab": {
   "provenance": [
    {
     "file_id": "13E55CHp_WkH5JudIySa-2PDve80T2o4a",
     "timestamp": 1673885040114
    }
   ]
  },
  "gpuClass": "standard",
  "kernelspec": {
   "display_name": "kaggle",
   "language": "python",
   "name": "python3"
  },
  "language_info": {
   "codemirror_mode": {
    "name": "ipython",
    "version": 3
   },
   "file_extension": ".py",
   "mimetype": "text/x-python",
   "name": "python",
   "nbconvert_exporter": "python",
   "pygments_lexer": "ipython3",
   "version": "3.10.6"
  },
  "vscode": {
   "interpreter": {
    "hash": "5f61c2089b08795400945c903da408432651bbaca6b22bb6c13ea905da80bc86"
   }
  }
 },
 "nbformat": 4,
 "nbformat_minor": 4
}
