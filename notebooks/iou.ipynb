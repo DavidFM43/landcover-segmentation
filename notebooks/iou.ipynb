{
 "cells": [
  {
   "cell_type": "code",
   "execution_count": null,
   "metadata": {},
   "outputs": [],
   "source": [
    "import torch\n",
    "\n",
    "num_classes = 7\n",
    "labels = torch.randint(0, 7, (6, 256, 256))\n",
    "preds = torch.randint(0, 7, (6, 256, 256))"
   ]
  },
  {
   "cell_type": "code",
   "execution_count": null,
   "metadata": {},
   "outputs": [],
   "source": [
    "class IouMetric:\n",
    "    def __init__(self, num_classes: int, int2str: dict, ignore_index: int = 255, prefix=\"train\"):\n",
    "        \"\"\"\n",
    "        Args:\n",
    "            num_classes: number of classes\n",
    "            int2str: dictionary mapping class index to class name\n",
    "            ignore_index: index to ignore in the metric calculations\n",
    "            prefix: prefix to use for logging\n",
    "        \"\"\"\n",
    "        self.area_intersect = torch.zeros(num_classes)\n",
    "        self.area_label = torch.zeros(num_classes)\n",
    "        self.area_pred = torch.zeros(num_classes)\n",
    "        self.int2str = int2str\n",
    "        self.ignore_index = ignore_index\n",
    "        self.prefix = prefix\n",
    "\n",
    "    def process(self, preds, labels):\n",
    "        ## NOTE: Including this would be conceptually correct but ive decided to ignore it for now\n",
    "        ## as other implementations dont include it\n",
    "        # mask = labels != self.ignore_index\n",
    "        # preds = preds[mask]\n",
    "        # labels = labels[mask]\n",
    "\n",
    "        # compute area of intersection, label and prediction\n",
    "        intersect = preds[preds == labels]\n",
    "        area_intersect = torch.histc(intersect.float(), bins=num_classes, min=0, max=num_classes - 1)\n",
    "        area_label = torch.histc(labels.float(), bins=num_classes, min=0, max=num_classes - 1)\n",
    "        area_pred = torch.histc(preds.float(), bins=num_classes, min=0, max=num_classes - 1)\n",
    "\n",
    "        # update results\n",
    "        self.area_intersect += area_intersect\n",
    "        self.area_label += area_label\n",
    "        self.area_pred += area_pred\n",
    "\n",
    "    def compute(self):\n",
    "        iou = self.area_intersect / (self.area_label + self.area_pred - self.area_intersect)\n",
    "        if 0 <= self.ignore_index <= num_classes - 1:\n",
    "            iou[self.ignore_index] = torch.nan\n",
    "        mean_iou = torch.nanmean(iou)\n",
    "\n",
    "        metrics = {\n",
    "            f\"{self.prefix}/iou_{self.int2str[idx]}\": round(iou[idx].item(), 4)\n",
    "            for idx in range(len(iou))\n",
    "            if idx != self.ignore_index\n",
    "        }\n",
    "        metrics[f\"{self.prefix}/mean_iou\"] = round(mean_iou.item(), 4)\n",
    "\n",
    "        return metrics\n",
    "\n",
    "    def reset(self):\n",
    "        self.area_intersect.zero_()\n",
    "        self.area_label.zero_()\n",
    "        self.area_pred.zero_()\n",
    "\n",
    "\n",
    "iou_metric = IouMetric(num_classes=7, int2str=int2str, ignore_index=6)\n",
    "iou_metric.process(preds, labels)\n",
    "iou_metric.compute()\n"
   ]
  },
  {
   "cell_type": "code",
   "execution_count": null,
   "metadata": {},
   "outputs": [],
   "source": [
    "import numpy as np\n",
    "\n",
    "ignore_index = 6\n",
    "num_labels = 7\n",
    "\n",
    "total_area_intersect = np.zeros((num_labels,), dtype=np.float64)\n",
    "total_area_union = np.zeros((num_labels,), dtype=np.float64)\n",
    "total_area_pred_label = np.zeros((num_labels,), dtype=np.float64)\n",
    "total_area_label = np.zeros((num_labels,), dtype=np.float64)\n",
    "\n",
    "for pred_label_i, label_i in zip(preds, labels): \n",
    "    pred_label_i = np.array(pred_label_i)\n",
    "    label_i = np.array(label_i)\n",
    "\n",
    "    mask = label_i != ignore_index\n",
    "    mask = np.not_equal(label_i, ignore_index)\n",
    "    print(mask)\n",
    "    pred_label_i = pred_label_i[mask]\n",
    "    print(pred_label_i, pred_label_i.shape)\n",
    "    label_i = np.array(label_i)[mask]\n",
    "    print(label_i, label_i.shape)\n",
    "    break\n",
    "\n",
    "    intersect = pred_label_i[pred_label_i == label_i]\n",
    "\n",
    "    area_intersect = np.histogram(intersect, bins=num_labels, range=(0, num_labels - 1))[0]\n",
    "    area_pred_label = np.histogram(pred_label_i, bins=num_labels, range=(0, num_labels - 1))[0]\n",
    "    area_label = np.histogram(label_i, bins=num_labels, range=(0, num_labels - 1))[0]\n",
    "\n",
    "    area_union = area_pred_label + area_label - area_intersect\n",
    "\n",
    "    total_area_intersect += area_intersect\n",
    "    total_area_union += area_union\n"
   ]
  },
  {
   "cell_type": "code",
   "execution_count": null,
   "metadata": {},
   "outputs": [],
   "source": [
    "total_area_intersect / total_area_union"
   ]
  },
  {
   "cell_type": "code",
   "execution_count": null,
   "metadata": {},
   "outputs": [],
   "source": [
    "import evaluate\n",
    "\n",
    "mean_iou = evaluate.load(\"mean_iou\")\n",
    "\n",
    "list_pred = [preds[i] for i in range(len(preds))]\n",
    "list_label = [labels[i] for i in range(len(labels))]\n",
    "mean_iou._compute(list_pred, list_label, num_labels=7, ignore_index=6)\n"
   ]
  },
  {
   "cell_type": "code",
   "execution_count": null,
   "metadata": {},
   "outputs": [],
   "source": [
    "ignore_index = 6\n",
    "\n",
    "mask = (labels != ignore_index)\n",
    "labels = labels[mask]\n",
    "preds = preds[mask]\n",
    "intersect = preds[preds == labels]\n",
    "\n",
    "area_intersect = torch.bincount(intersect, minlength=7)\n",
    "area_label = torch.bincount(labels.view(-1), minlength=7)\n",
    "area_pred = torch.bincount(preds.view(-1), minlength=7)\n",
    "\n",
    "\n",
    "iou = area_intersect / (area_label + area_pred - area_intersect)\n",
    "\n",
    "print(\"iou:\", iou)\n",
    "print(\"mean iou:\", round(torch.nanmean(iou).item(), 4))\n"
   ]
  },
  {
   "cell_type": "code",
   "execution_count": 1,
   "metadata": {},
   "outputs": [
    {
     "name": "stderr",
     "output_type": "stream",
     "text": [
      "/home/davidfm43/miniconda3/envs/landcover-segmentation/lib/python3.9/site-packages/tqdm/auto.py:21: TqdmWarning: IProgress not found. Please update jupyter and ipywidgets. See https://ipywidgets.readthedocs.io/en/stable/user_install.html\n",
      "  from .autonotebook import tqdm as notebook_tqdm\n"
     ]
    },
    {
     "data": {
      "text/plain": [
       "<matplotlib.image.AxesImage at 0x7f187046f7f0>"
      ]
     },
     "execution_count": 1,
     "metadata": {},
     "output_type": "execute_result"
    },
    {
     "data": {
      "image/png": "[encoded data removed]",
      "text/plain": [
       "<Figure size 640x480 with 2 Axes>"
      ]
     },
     "metadata": {},
     "output_type": "display_data"
    }
   ],
   "source": [
    "import numpy as np\n",
    "import evaluate\n",
    "from matplotlib import pyplot as plt\n",
    "\n",
    "pred = np.zeros((200, 200), dtype=np.int32)\n",
    "mask = np.zeros((200, 200), dtype=np.int32)\n",
    "\n",
    "pred[100:, ...] = 1\n",
    "mask[..., 100:] = 1\n",
    "\n",
    "f, axs = plt.subplots(1, 2)\n",
    "axs[0].imshow(pred)\n",
    "axs[1].imshow(mask)"
   ]
  },
  {
   "cell_type": "code",
   "execution_count": null,
   "metadata": {},
   "outputs": [],
   "source": [
    "import torch\n",
    "from mmseg.evaluation.metrics.iou_metric import IoUMetric\n",
    "\n",
    "\n",
    "gt_sem_seg_data = torch.zeros((200, 200), dtype=torch.int64)\n",
    "pred_sem_seg_data = torch.zeros((200, 200), dtype=torch.int64)\n",
    "gt_sem_seg_data[..., 100:] = 1\n",
    "pred_sem_seg_data[100:, ...] = 1\n",
    "\n",
    "\n",
    "data_sample = {\"gt_sem_seg\": {\"data\": gt_sem_seg_data}, \"pred_sem_seg\": {\"data\": pred_sem_seg_data}}\n",
    "data_samples = [data_sample]\n",
    "\n",
    "iou = IoUMetric(ignore_index=0)\n",
    "iou.dataset_meta = dict(classes=[\"black\", \"white\"])\n",
    "iou.process([0] * len(data_samples), data_samples)\n",
    "iou.evaluate(1)\n",
    "\n",
    "## Output\n",
    "# | Class | IoU  | Acc  |\n",
    "# +-------+------+------+\n",
    "# | black | 0.0  | nan  |\n",
    "# | white | 50.0 | 50.0 |\n",
    "# +-------+------+------+\n",
    "# {'aAcc': 50.0, 'mIoU': 25.0, 'mAcc': 50.0}"
   ]
  },
  {
   "cell_type": "code",
   "execution_count": null,
   "metadata": {},
   "outputs": [],
   "source": [
    "iou.compute_metrics(results=iou.results)"
   ]
  },
  {
   "cell_type": "code",
   "execution_count": null,
   "metadata": {},
   "outputs": [],
   "source": [
    "from mmseg.core.evaluation.metrics import mean_iou as mmseg_miou\n",
    "\n",
    "mmseg_miou(\n",
    "    results=[pred],\n",
    "    gt_seg_maps=[mask],\n",
    "    num_classes=2,\n",
    "    ignore_index=0,\n",
    "    reduce_zero_label=False,\n",
    ")"
   ]
  }
 ],
 "metadata": {
  "kernelspec": {
   "display_name": "landcover-segmentation",
   "language": "python",
   "name": "python3"
  },
  "language_info": {
   "codemirror_mode": {
    "name": "ipython",
    "version": 3
   },
   "file_extension": ".py",
   "mimetype": "text/x-python",
   "name": "python",
   "nbconvert_exporter": "python",
   "pygments_lexer": "ipython3",
   "version": "3.9.16"
  },
  "orig_nbformat": 4
 },
 "nbformat": 4,
 "nbformat_minor": 2
}
